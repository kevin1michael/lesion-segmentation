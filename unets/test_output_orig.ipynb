{
 "cells": [
  {
   "cell_type": "code",
   "execution_count": 1,
   "metadata": {
    "collapsed": false
   },
   "outputs": [
    {
     "name": "stdout",
     "output_type": "stream",
     "text": [
      "Number of files used: 200\n"
     ]
    },
    {
     "name": "stderr",
     "output_type": "stream",
     "text": [
      "2017-03-30 19:11:46,228 Layers 4, features 20, filter size 3x3, pool size: 2x2\n"
     ]
    }
   ],
   "source": [
    "from __future__ import division, print_function\n",
    "%matplotlib inline\n",
    "import matplotlib.pyplot as plt\n",
    "import matplotlib\n",
    "import numpy as np\n",
    "\n",
    "from tf_unet import image_gen\n",
    "from tf_unet import unet\n",
    "from tf_unet import util\n",
    "from tf_unet import image_util\n",
    "\n",
    "generator = image_util.ImageDataProvider('../../train_test_data/test0/*[_img,_segmentation].tif', data_suffix=u'_img.tif', mask_suffix=u'_segmentation.tif')\n",
    "net = unet.Unet(channels=generator.channels, n_class=generator.n_class, layers=4, features_root=20)"
   ]
  },
  {
   "cell_type": "code",
   "execution_count": 2,
   "metadata": {
    "collapsed": false
   },
   "outputs": [
    {
     "name": "stdout",
     "output_type": "stream",
     "text": [
      "ISIC_0000018: 0/200\n"
     ]
    },
    {
     "name": "stderr",
     "output_type": "stream",
     "text": [
      "2017-03-30 19:11:52,109 Model restored from file: ../../unet_models/train_hist_4_20/train0_hist/unet_trained/model.cpkt\n"
     ]
    },
    {
     "name": "stdout",
     "output_type": "stream",
     "text": [
      "0.378175184149 0.855673915911 1.0 0.841786783888\n",
      "ISIC_0000047: 1/200\n"
     ]
    },
    {
     "name": "stderr",
     "output_type": "stream",
     "text": [
      "/usr/local/lib/python2.7/dist-packages/skimage/util/dtype.py:110: UserWarning: Possible precision loss when converting from float64 to uint16\n",
      "  \"%s to %s\" % (dtypeobj_in, dtypeobj))\n",
      "2017-03-30 19:11:54,698 Model restored from file: ../../unet_models/train_hist_4_20/train0_hist/unet_trained/model.cpkt\n"
     ]
    },
    {
     "name": "stdout",
     "output_type": "stream",
     "text": [
      "0.530691510111 0.885218396058 1.0 0.868098290295\n",
      "ISIC_0000069: 2/200\n"
     ]
    },
    {
     "name": "stderr",
     "output_type": "stream",
     "text": [
      "2017-03-30 19:11:56,775 Model restored from file: ../../unet_models/train_hist_4_20/train0_hist/unet_trained/model.cpkt\n"
     ]
    },
    {
     "name": "stdout",
     "output_type": "stream",
     "text": [
      "0.671482737976 0.957998351776 1.0 0.954053850383\n",
      "ISIC_0000079: 3/200\n"
     ]
    },
    {
     "name": "stderr",
     "output_type": "stream",
     "text": [
      "2017-03-30 19:11:58,307 Model restored from file: ../../unet_models/train_hist_4_20/train0_hist/unet_trained/model.cpkt\n"
     ]
    },
    {
     "name": "stdout",
     "output_type": "stream",
     "text": [
      "0.268695219427 0.957594628084 1.0 0.956923472684\n",
      "ISIC_0000089: 4/200\n"
     ]
    },
    {
     "name": "stderr",
     "output_type": "stream",
     "text": [
      "2017-03-30 19:12:00,389 Model restored from file: ../../unet_models/train_hist_4_20/train0_hist/unet_trained/model.cpkt\n"
     ]
    },
    {
     "name": "stdout",
     "output_type": "stream",
     "text": [
      "0.813608918268 0.977017402649 0.981479523288 0.976509387464\n",
      "ISIC_0000112: 5/200\n"
     ]
    },
    {
     "name": "stderr",
     "output_type": "stream",
     "text": [
      "2017-03-30 19:12:03,572 Model restored from file: ../../unet_models/train_hist_4_20/train0_hist/unet_trained/model.cpkt\n"
     ]
    },
    {
     "name": "stdout",
     "output_type": "stream",
     "text": [
      "0.280422407003 0.854500770569 1.0 0.845754812358\n",
      "ISIC_0000125: 6/200\n"
     ]
    },
    {
     "name": "stderr",
     "output_type": "stream",
     "text": [
      "2017-03-30 19:12:06,696 Model restored from file: ../../unet_models/train_hist_4_20/train0_hist/unet_trained/model.cpkt\n"
     ]
    },
    {
     "name": "stdout",
     "output_type": "stream",
     "text": [
      "0.586110946658 0.995555241903 0.943216463415 0.995906854211\n",
      "ISIC_0000131: 7/200\n"
     ]
    },
    {
     "name": "stderr",
     "output_type": "stream",
     "text": [
      "/usr/local/lib/python2.7/dist-packages/skimage/io/_io.py:132: UserWarning: ./out_dir//ISIC_0000125_segmentation.png is a low contrast image\n",
      "  warn('%s is a low contrast image' % fname)\n",
      "2017-03-30 19:12:09,856 Model restored from file: ../../unet_models/train_hist_4_20/train0_hist/unet_trained/model.cpkt\n"
     ]
    },
    {
     "name": "stdout",
     "output_type": "stream",
     "text": [
      "0.0132790026998 0.74450969696 1.0 0.743628210297\n",
      "ISIC_0000159: 8/200\n"
     ]
    },
    {
     "name": "stderr",
     "output_type": "stream",
     "text": [
      "/usr/local/lib/python2.7/dist-packages/skimage/io/_io.py:132: UserWarning: ./out_dir//ISIC_0000131_segmentation.png is a low contrast image\n",
      "  warn('%s is a low contrast image' % fname)\n",
      "2017-03-30 19:12:12,907 Model restored from file: ../../unet_models/train_hist_4_20/train0_hist/unet_trained/model.cpkt\n"
     ]
    },
    {
     "name": "stdout",
     "output_type": "stream",
     "text": [
      "0.492704530673 0.806867431941 1.0 0.762275659039\n",
      "ISIC_0000161: 9/200\n"
     ]
    },
    {
     "name": "stderr",
     "output_type": "stream",
     "text": [
      "2017-03-30 19:12:14,347 Model restored from file: ../../unet_models/train_hist_4_20/train0_hist/unet_trained/model.cpkt\n"
     ]
    },
    {
     "name": "stdout",
     "output_type": "stream",
     "text": [
      "0.711951131193 0.858911639327 1.0 0.783368025708\n",
      "ISIC_0000176: 10/200\n"
     ]
    },
    {
     "name": "stderr",
     "output_type": "stream",
     "text": [
      "2017-03-30 19:12:15,717 Model restored from file: ../../unet_models/train_hist_4_20/train0_hist/unet_trained/model.cpkt\n"
     ]
    },
    {
     "name": "stdout",
     "output_type": "stream",
     "text": [
      "0.439409810216 0.906433759945 1.0 0.89902846443\n",
      "ISIC_0000193: 11/200\n"
     ]
    },
    {
     "name": "stderr",
     "output_type": "stream",
     "text": [
      "2017-03-30 19:12:17,446 Model restored from file: ../../unet_models/train_hist_4_20/train0_hist/unet_trained/model.cpkt\n"
     ]
    },
    {
     "name": "stdout",
     "output_type": "stream",
     "text": [
      "0.0292780625354 0.702990614518 1.0 0.700305914067\n",
      "ISIC_0000196: 12/200\n"
     ]
    },
    {
     "name": "stderr",
     "output_type": "stream",
     "text": [
      "/usr/local/lib/python2.7/dist-packages/skimage/io/_io.py:132: UserWarning: ./out_dir//ISIC_0000193_segmentation.png is a low contrast image\n",
      "  warn('%s is a low contrast image' % fname)\n",
      "2017-03-30 19:12:18,962 Model restored from file: ../../unet_models/train_hist_4_20/train0_hist/unet_trained/model.cpkt\n"
     ]
    },
    {
     "name": "stdout",
     "output_type": "stream",
     "text": [
      "0.506203757798 0.843819292614 1.0 0.814047336259\n",
      "ISIC_0000206: 13/200\n"
     ]
    },
    {
     "name": "stderr",
     "output_type": "stream",
     "text": [
      "2017-03-30 19:12:20,938 Model restored from file: ../../unet_models/train_hist_4_20/train0_hist/unet_trained/model.cpkt\n"
     ]
    },
    {
     "name": "stdout",
     "output_type": "stream",
     "text": [
      "0.608260533846 0.934438192781 1.0 0.92700764933\n",
      "ISIC_0000215: 14/200\n"
     ]
    },
    {
     "name": "stderr",
     "output_type": "stream",
     "text": [
      "2017-03-30 19:12:22,942 Model restored from file: ../../unet_models/train_hist_4_20/train0_hist/unet_trained/model.cpkt\n"
     ]
    },
    {
     "name": "stdout",
     "output_type": "stream",
     "text": [
      "0.197797175921 0.412509176604 1.0 0.312991802909\n",
      "ISIC_0000225: 15/200\n"
     ]
    },
    {
     "name": "stderr",
     "output_type": "stream",
     "text": [
      "2017-03-30 19:12:24,381 Model restored from file: ../../unet_models/train_hist_4_20/train0_hist/unet_trained/model.cpkt\n"
     ]
    },
    {
     "name": "stdout",
     "output_type": "stream",
     "text": [
      "0.739568578848 0.974489493591 0.998903945795 0.972580411418\n",
      "ISIC_0000226: 16/200\n"
     ]
    },
    {
     "name": "stderr",
     "output_type": "stream",
     "text": [
      "2017-03-30 19:12:25,854 Model restored from file: ../../unet_models/train_hist_4_20/train0_hist/unet_trained/model.cpkt\n"
     ]
    },
    {
     "name": "stdout",
     "output_type": "stream",
     "text": [
      "0.634717847384 0.827072218929 1.0 0.752790442101\n",
      "ISIC_0000234: 17/200\n"
     ]
    },
    {
     "name": "stderr",
     "output_type": "stream",
     "text": [
      "2017-03-30 19:12:27,413 Model restored from file: ../../unet_models/train_hist_4_20/train0_hist/unet_trained/model.cpkt\n"
     ]
    },
    {
     "name": "stdout",
     "output_type": "stream",
     "text": [
      "0.276188825957 0.691674150254 1.0 0.650562998102\n",
      "ISIC_0000254: 18/200\n"
     ]
    },
    {
     "name": "stderr",
     "output_type": "stream",
     "text": [
      "2017-03-30 19:12:28,860 Model restored from file: ../../unet_models/train_hist_4_20/train0_hist/unet_trained/model.cpkt\n"
     ]
    },
    {
     "name": "stdout",
     "output_type": "stream",
     "text": [
      "0.592639940342 0.922204335531 1.0 0.912275746174\n",
      "ISIC_0000255: 19/200\n"
     ]
    },
    {
     "name": "stderr",
     "output_type": "stream",
     "text": [
      "2017-03-30 19:12:30,480 Model restored from file: ../../unet_models/train_hist_4_20/train0_hist/unet_trained/model.cpkt\n"
     ]
    },
    {
     "name": "stdout",
     "output_type": "stream",
     "text": [
      "0.669485061216 0.934984842936 1.0 0.925124182853\n",
      "ISIC_0000260: 20/200\n"
     ]
    },
    {
     "name": "stderr",
     "output_type": "stream",
     "text": [
      "2017-03-30 19:12:32,006 Model restored from file: ../../unet_models/train_hist_4_20/train0_hist/unet_trained/model.cpkt\n"
     ]
    },
    {
     "name": "stdout",
     "output_type": "stream",
     "text": [
      "0.755872853176 0.947909037272 0.756224363255 0.999873930021\n",
      "ISIC_0000264: 21/200\n"
     ]
    },
    {
     "name": "stderr",
     "output_type": "stream",
     "text": [
      "2017-03-30 19:12:33,676 Model restored from file: ../../unet_models/train_hist_4_20/train0_hist/unet_trained/model.cpkt\n"
     ]
    },
    {
     "name": "stdout",
     "output_type": "stream",
     "text": [
      "0.0815339473427 0.558592478434 1.0 0.54059072333\n",
      "ISIC_0000283: 22/200\n"
     ]
    },
    {
     "name": "stderr",
     "output_type": "stream",
     "text": [
      "2017-03-30 19:12:35,218 Model restored from file: ../../unet_models/train_hist_4_20/train0_hist/unet_trained/model.cpkt\n"
     ]
    },
    {
     "name": "stdout",
     "output_type": "stream",
     "text": [
      "0.455012388548 0.923365275065 0.999960254372 0.91812930641\n",
      "ISIC_0000315: 23/200\n"
     ]
    },
    {
     "name": "stderr",
     "output_type": "stream",
     "text": [
      "2017-03-30 19:12:36,847 Model restored from file: ../../unet_models/train_hist_4_20/train0_hist/unet_trained/model.cpkt\n"
     ]
    },
    {
     "name": "stdout",
     "output_type": "stream",
     "text": [
      "0.734492058735 0.95587968999 0.995955006372 0.950282599555\n",
      "ISIC_0000327: 24/200\n"
     ]
    },
    {
     "name": "stderr",
     "output_type": "stream",
     "text": [
      "2017-03-30 19:12:38,332 Model restored from file: ../../unet_models/train_hist_4_20/train0_hist/unet_trained/model.cpkt\n"
     ]
    },
    {
     "name": "stdout",
     "output_type": "stream",
     "text": [
      "0.677491334185 0.947982308417 1.0 0.941600849775\n",
      "ISIC_0000328: 25/200\n"
     ]
    },
    {
     "name": "stderr",
     "output_type": "stream",
     "text": [
      "2017-03-30 19:12:39,743 Model restored from file: ../../unet_models/train_hist_4_20/train0_hist/unet_trained/model.cpkt\n"
     ]
    },
    {
     "name": "stdout",
     "output_type": "stream",
     "text": [
      "0.00960054214826 0.583192995799 1.0 0.581502112466\n",
      "ISIC_0000345: 26/200\n"
     ]
    },
    {
     "name": "stderr",
     "output_type": "stream",
     "text": [
      "/usr/local/lib/python2.7/dist-packages/skimage/io/_io.py:132: UserWarning: ./out_dir//ISIC_0000328_segmentation.png is a low contrast image\n",
      "  warn('%s is a low contrast image' % fname)\n",
      "2017-03-30 19:12:41,147 Model restored from file: ../../unet_models/train_hist_4_20/train0_hist/unet_trained/model.cpkt\n"
     ]
    },
    {
     "name": "stdout",
     "output_type": "stream",
     "text": [
      "0.655056179775 0.974983702738 0.677250726041 0.997444024128\n",
      "ISIC_0000357: 27/200\n"
     ]
    },
    {
     "name": "stderr",
     "output_type": "stream",
     "text": [
      "2017-03-30 19:12:42,679 Model restored from file: ../../unet_models/train_hist_4_20/train0_hist/unet_trained/model.cpkt\n"
     ]
    },
    {
     "name": "stdout",
     "output_type": "stream",
     "text": [
      "0.425217991664 0.949120853252 1.0 0.947130865104\n",
      "ISIC_0000359: 28/200\n"
     ]
    },
    {
     "name": "stderr",
     "output_type": "stream",
     "text": [
      "2017-03-30 19:12:44,205 Model restored from file: ../../unet_models/train_hist_4_20/train0_hist/unet_trained/model.cpkt\n"
     ]
    },
    {
     "name": "stdout",
     "output_type": "stream",
     "text": [
      "0.640394565867 0.756324243083 1.0 0.56952003167\n",
      "ISIC_0000390: 29/200\n"
     ]
    },
    {
     "name": "stderr",
     "output_type": "stream",
     "text": [
      "2017-03-30 19:12:45,664 Model restored from file: ../../unet_models/train_hist_4_20/train0_hist/unet_trained/model.cpkt\n"
     ]
    },
    {
     "name": "stdout",
     "output_type": "stream",
     "text": [
      "0.238474244592 0.672754358362 1.0 0.635389827093\n",
      "ISIC_0000412: 30/200\n"
     ]
    },
    {
     "name": "stderr",
     "output_type": "stream",
     "text": [
      "2017-03-30 19:12:52,881 Model restored from file: ../../unet_models/train_hist_4_20/train0_hist/unet_trained/model.cpkt\n"
     ]
    },
    {
     "name": "stdout",
     "output_type": "stream",
     "text": [
      "0.0332805027645 0.629049889461 1.0 0.624251425389\n",
      "ISIC_0000442: 31/200\n"
     ]
    },
    {
     "name": "stderr",
     "output_type": "stream",
     "text": [
      "2017-03-30 19:12:58,825 Model restored from file: ../../unet_models/train_hist_4_20/train0_hist/unet_trained/model.cpkt\n"
     ]
    },
    {
     "name": "stdout",
     "output_type": "stream",
     "text": [
      "0.190503690087 0.83997910111 1.0 0.833717104877\n",
      "ISIC_0000444: 32/200\n"
     ]
    },
    {
     "name": "stderr",
     "output_type": "stream",
     "text": [
      "2017-03-30 19:13:05,990 Model restored from file: ../../unet_models/train_hist_4_20/train0_hist/unet_trained/model.cpkt\n"
     ]
    },
    {
     "name": "stdout",
     "output_type": "stream",
     "text": [
      "0.29527641153 0.928378917553 1.0 0.926163151112\n",
      "ISIC_0000445: 33/200\n"
     ]
    },
    {
     "name": "stderr",
     "output_type": "stream",
     "text": [
      "2017-03-30 19:13:13,074 Model restored from file: ../../unet_models/train_hist_4_20/train0_hist/unet_trained/model.cpkt\n"
     ]
    },
    {
     "name": "stdout",
     "output_type": "stream",
     "text": [
      "0.395809890086 0.923912754765 1.0 0.91992119657\n",
      "ISIC_0000447: 34/200\n"
     ]
    },
    {
     "name": "stderr",
     "output_type": "stream",
     "text": [
      "2017-03-30 19:13:20,244 Model restored from file: ../../unet_models/train_hist_4_20/train0_hist/unet_trained/model.cpkt\n",
      "/usr/local/lib/python2.7/dist-packages/sklearn/metrics/classification.py:1113: UndefinedMetricWarning: Precision is ill-defined and being set to 0.0 due to no predicted samples.\n",
      "  'precision', 'predicted', average, warn_for)\n"
     ]
    },
    {
     "name": "stdout",
     "output_type": "stream",
     "text": [
      "0.0 0.922893619876 0.0 0.922893619876\n",
      "ISIC_0000455: 35/200\n"
     ]
    },
    {
     "name": "stderr",
     "output_type": "stream",
     "text": [
      "/usr/local/lib/python2.7/dist-packages/skimage/io/_io.py:132: UserWarning: ./out_dir//ISIC_0000447_segmentation.png is a low contrast image\n",
      "  warn('%s is a low contrast image' % fname)\n",
      "2017-03-30 19:13:24,204 Model restored from file: ../../unet_models/train_hist_4_20/train0_hist/unet_trained/model.cpkt\n"
     ]
    },
    {
     "name": "stdout",
     "output_type": "stream",
     "text": [
      "0.648729410893 0.902044142057 1.0 0.88040954995\n",
      "ISIC_0000458: 36/200\n"
     ]
    },
    {
     "name": "stderr",
     "output_type": "stream",
     "text": [
      "2017-03-30 19:13:28,337 Model restored from file: ../../unet_models/train_hist_4_20/train0_hist/unet_trained/model.cpkt\n"
     ]
    },
    {
     "name": "stdout",
     "output_type": "stream",
     "text": [
      "0.33225702469 0.834175442786 1.0 0.819262552054\n",
      "ISIC_0000460: 37/200\n"
     ]
    },
    {
     "name": "stderr",
     "output_type": "stream",
     "text": [
      "2017-03-30 19:13:30,182 Model restored from file: ../../unet_models/train_hist_4_20/train0_hist/unet_trained/model.cpkt\n"
     ]
    },
    {
     "name": "stdout",
     "output_type": "stream",
     "text": [
      "0.753855306624 0.957337342172 0.999833883594 0.950948932451\n",
      "ISIC_0000471: 38/200\n"
     ]
    },
    {
     "name": "stderr",
     "output_type": "stream",
     "text": [
      "2017-03-30 19:13:31,898 Model restored from file: ../../unet_models/train_hist_4_20/train0_hist/unet_trained/model.cpkt\n"
     ]
    },
    {
     "name": "stdout",
     "output_type": "stream",
     "text": [
      "0.690174991746 0.955439203949 0.999877000451 0.950541298182\n",
      "ISIC_0000474: 39/200\n"
     ]
    },
    {
     "name": "stderr",
     "output_type": "stream",
     "text": [
      "2017-03-30 19:13:33,673 Model restored from file: ../../unet_models/train_hist_4_20/train0_hist/unet_trained/model.cpkt\n"
     ]
    },
    {
     "name": "stdout",
     "output_type": "stream",
     "text": [
      "0.490407687432 0.755651676033 1.0 0.680528059831\n",
      "ISIC_0000478: 40/200\n"
     ]
    },
    {
     "name": "stderr",
     "output_type": "stream",
     "text": [
      "2017-03-30 19:13:35,497 Model restored from file: ../../unet_models/train_hist_4_20/train0_hist/unet_trained/model.cpkt\n"
     ]
    },
    {
     "name": "stdout",
     "output_type": "stream",
     "text": [
      "0.0432302956599 0.367005500395 1.0 0.348368200369\n",
      "ISIC_0000528: 41/200\n"
     ]
    },
    {
     "name": "stderr",
     "output_type": "stream",
     "text": [
      "2017-03-30 19:13:37,449 Model restored from file: ../../unet_models/train_hist_4_20/train0_hist/unet_trained/model.cpkt\n"
     ]
    },
    {
     "name": "stdout",
     "output_type": "stream",
     "text": [
      "0.167960352843 0.89036791463 1.0 0.887886739523\n",
      "ISIC_0000546: 42/200\n"
     ]
    },
    {
     "name": "stderr",
     "output_type": "stream",
     "text": [
      "2017-03-30 19:13:39,321 Model restored from file: ../../unet_models/train_hist_4_20/train0_hist/unet_trained/model.cpkt\n"
     ]
    },
    {
     "name": "stdout",
     "output_type": "stream",
     "text": [
      "0.368827041454 0.792835248525 1.0 0.764302380289\n",
      "ISIC_0001131: 43/200\n"
     ]
    },
    {
     "name": "stderr",
     "output_type": "stream",
     "text": [
      "2017-03-30 19:13:41,049 Model restored from file: ../../unet_models/train_hist_4_20/train0_hist/unet_trained/model.cpkt\n"
     ]
    },
    {
     "name": "stdout",
     "output_type": "stream",
     "text": [
      "0.0730739311118 0.681146268491 0.947485301636 0.673887739416\n",
      "ISIC_0001133: 44/200\n"
     ]
    },
    {
     "name": "stderr",
     "output_type": "stream",
     "text": [
      "2017-03-30 19:13:48,359 Model restored from file: ../../unet_models/train_hist_4_20/train0_hist/unet_trained/model.cpkt\n"
     ]
    },
    {
     "name": "stdout",
     "output_type": "stream",
     "text": [
      "0.148884681674 0.75343407525 0.47533632287 0.781186603121\n",
      "ISIC_0002093: 45/200\n"
     ]
    },
    {
     "name": "stderr",
     "output_type": "stream",
     "text": [
      "2017-03-30 19:13:55,864 Model restored from file: ../../unet_models/train_hist_4_20/train0_hist/unet_trained/model.cpkt\n"
     ]
    },
    {
     "name": "stdout",
     "output_type": "stream",
     "text": [
      "0.752039835128 0.946407575376 0.925287742711 0.950908195107\n",
      "ISIC_0002439: 46/200\n"
     ]
    },
    {
     "name": "stderr",
     "output_type": "stream",
     "text": [
      "2017-03-30 19:14:02,419 Model restored from file: ../../unet_models/train_hist_4_20/train0_hist/unet_trained/model.cpkt\n"
     ]
    },
    {
     "name": "stdout",
     "output_type": "stream",
     "text": [
      "0.64489238493 0.968395199515 0.984948797199 0.967370883432\n",
      "ISIC_0002453: 47/200\n"
     ]
    },
    {
     "name": "stderr",
     "output_type": "stream",
     "text": [
      "2017-03-30 19:14:08,472 Model restored from file: ../../unet_models/train_hist_4_20/train0_hist/unet_trained/model.cpkt\n"
     ]
    },
    {
     "name": "stdout",
     "output_type": "stream",
     "text": [
      "0.18646309724 0.95016226012 1.0 0.949586393719\n",
      "ISIC_0002647: 48/200\n"
     ]
    },
    {
     "name": "stderr",
     "output_type": "stream",
     "text": [
      "2017-03-30 19:14:14,475 Model restored from file: ../../unet_models/train_hist_4_20/train0_hist/unet_trained/model.cpkt\n"
     ]
    },
    {
     "name": "stdout",
     "output_type": "stream",
     "text": [
      "0.270960997346 0.964081399097 0.582224460206 0.973042462377\n",
      "ISIC_0003051: 49/200\n"
     ]
    },
    {
     "name": "stderr",
     "output_type": "stream",
     "text": [
      "2017-03-30 19:14:26,795 Model restored from file: ../../unet_models/train_hist_4_20/train0_hist/unet_trained/model.cpkt\n"
     ]
    },
    {
     "name": "stdout",
     "output_type": "stream",
     "text": [
      "0.605470002996 0.987813440042 0.998596518842 0.987607634393\n",
      "ISIC_0004168: 50/200\n"
     ]
    },
    {
     "name": "stderr",
     "output_type": "stream",
     "text": [
      "2017-03-30 19:14:38,525 Model restored from file: ../../unet_models/train_hist_4_20/train0_hist/unet_trained/model.cpkt\n"
     ]
    },
    {
     "name": "stdout",
     "output_type": "stream",
     "text": [
      "0.0117888356654 0.969187021136 0.555706858133 0.969460706222\n"
     ]
    },
    {
     "name": "stderr",
     "output_type": "stream",
     "text": [
      "/usr/local/lib/python2.7/dist-packages/skimage/io/_io.py:132: UserWarning: ./out_dir//ISIC_0004168_segmentation.png is a low contrast image\n",
      "  warn('%s is a low contrast image' % fname)\n"
     ]
    },
    {
     "name": "stdout",
     "output_type": "stream",
     "text": [
      "ISIC_0006326: 51/200\n"
     ]
    },
    {
     "name": "stderr",
     "output_type": "stream",
     "text": [
      "2017-03-30 19:14:50,266 Model restored from file: ../../unet_models/train_hist_4_20/train0_hist/unet_trained/model.cpkt\n"
     ]
    },
    {
     "name": "stdout",
     "output_type": "stream",
     "text": [
      "0.563184236132 0.963106654699 1.0 0.961264129019\n",
      "ISIC_0006350: 52/200\n"
     ]
    },
    {
     "name": "stderr",
     "output_type": "stream",
     "text": [
      "2017-03-30 19:14:56,877 Model restored from file: ../../unet_models/train_hist_4_20/train0_hist/unet_trained/model.cpkt\n"
     ]
    },
    {
     "name": "stdout",
     "output_type": "stream",
     "text": [
      "0.460149545884 0.935669570683 1.0 0.931937499881\n",
      "ISIC_0009298: 53/200\n"
     ]
    },
    {
     "name": "stderr",
     "output_type": "stream",
     "text": [
      "2017-03-30 19:15:03,437 Model restored from file: ../../unet_models/train_hist_4_20/train0_hist/unet_trained/model.cpkt\n"
     ]
    },
    {
     "name": "stdout",
     "output_type": "stream",
     "text": [
      "0.526812050811 0.966056633092 0.990224350722 0.965097723785\n",
      "ISIC_0009564: 54/200\n"
     ]
    },
    {
     "name": "stderr",
     "output_type": "stream",
     "text": [
      "2017-03-30 19:15:15,219 Model restored from file: ../../unet_models/train_hist_4_20/train0_hist/unet_trained/model.cpkt\n"
     ]
    },
    {
     "name": "stdout",
     "output_type": "stream",
     "text": [
      "0.355824581054 0.979373208353 0.911952076342 0.980226205607\n",
      "ISIC_0009868: 55/200\n"
     ]
    },
    {
     "name": "stderr",
     "output_type": "stream",
     "text": [
      "2017-03-30 19:15:27,068 Model restored from file: ../../unet_models/train_hist_4_20/train0_hist/unet_trained/model.cpkt\n"
     ]
    },
    {
     "name": "stdout",
     "output_type": "stream",
     "text": [
      "0.483285195459 0.908096313477 1.0 0.899453557994\n",
      "ISIC_0009873: 56/200\n"
     ]
    },
    {
     "name": "stderr",
     "output_type": "stream",
     "text": [
      "2017-03-30 19:15:29,124 Model restored from file: ../../unet_models/train_hist_4_20/train0_hist/unet_trained/model.cpkt\n"
     ]
    },
    {
     "name": "stdout",
     "output_type": "stream",
     "text": [
      "0.115382135755 0.773181915283 0.997342249657 0.766329360087\n",
      "ISIC_0009880: 57/200\n"
     ]
    },
    {
     "name": "stderr",
     "output_type": "stream",
     "text": [
      "2017-03-30 19:15:31,214 Model restored from file: ../../unet_models/train_hist_4_20/train0_hist/unet_trained/model.cpkt\n"
     ]
    },
    {
     "name": "stdout",
     "output_type": "stream",
     "text": [
      "0.118033135654 0.789145151774 1.0 0.783022349\n",
      "ISIC_0009936: 58/200\n"
     ]
    },
    {
     "name": "stderr",
     "output_type": "stream",
     "text": [
      "2017-03-30 19:15:33,316 Model restored from file: ../../unet_models/train_hist_4_20/train0_hist/unet_trained/model.cpkt\n"
     ]
    },
    {
     "name": "stdout",
     "output_type": "stream",
     "text": [
      "0.345839210155 0.976409912109 1.0 0.976111992418\n",
      "ISIC_0009938: 59/200\n"
     ]
    },
    {
     "name": "stderr",
     "output_type": "stream",
     "text": [
      "2017-03-30 19:15:35,387 Model restored from file: ../../unet_models/train_hist_4_20/train0_hist/unet_trained/model.cpkt\n"
     ]
    },
    {
     "name": "stdout",
     "output_type": "stream",
     "text": [
      "0.0168029709601 0.753575642904 1.0 0.75253345592\n",
      "ISIC_0009939: 60/200\n"
     ]
    },
    {
     "name": "stderr",
     "output_type": "stream",
     "text": [
      "/usr/local/lib/python2.7/dist-packages/skimage/io/_io.py:132: UserWarning: ./out_dir//ISIC_0009938_segmentation.png is a low contrast image\n",
      "  warn('%s is a low contrast image' % fname)\n",
      "2017-03-30 19:15:37,358 Model restored from file: ../../unet_models/train_hist_4_20/train0_hist/unet_trained/model.cpkt\n"
     ]
    },
    {
     "name": "stdout",
     "output_type": "stream",
     "text": [
      "0.596099057638 0.901573181152 1.0 0.884845401314\n",
      "ISIC_0009953: 61/200\n"
     ]
    },
    {
     "name": "stderr",
     "output_type": "stream",
     "text": [
      "2017-03-30 19:15:39,466 Model restored from file: ../../unet_models/train_hist_4_20/train0_hist/unet_trained/model.cpkt\n"
     ]
    },
    {
     "name": "stdout",
     "output_type": "stream",
     "text": [
      "0.370600253271 0.763004302979 1.0 0.724568782068\n",
      "ISIC_0009961: 62/200\n"
     ]
    },
    {
     "name": "stderr",
     "output_type": "stream",
     "text": [
      "2017-03-30 19:15:41,552 Model restored from file: ../../unet_models/train_hist_4_20/train0_hist/unet_trained/model.cpkt\n"
     ]
    },
    {
     "name": "stdout",
     "output_type": "stream",
     "text": [
      "0.0 0.619753519694 0.0 0.619753519694\n",
      "ISIC_0009964: 63/200\n"
     ]
    },
    {
     "name": "stderr",
     "output_type": "stream",
     "text": [
      "/usr/local/lib/python2.7/dist-packages/skimage/io/_io.py:132: UserWarning: ./out_dir//ISIC_0009961_segmentation.png is a low contrast image\n",
      "  warn('%s is a low contrast image' % fname)\n",
      "2017-03-30 19:15:43,624 Model restored from file: ../../unet_models/train_hist_4_20/train0_hist/unet_trained/model.cpkt\n"
     ]
    },
    {
     "name": "stdout",
     "output_type": "stream",
     "text": [
      "0.290055303771 0.954784393311 1.0 0.953933390681\n",
      "ISIC_0009969: 64/200\n"
     ]
    },
    {
     "name": "stderr",
     "output_type": "stream",
     "text": [
      "2017-03-30 19:15:45,811 Model restored from file: ../../unet_models/train_hist_4_20/train0_hist/unet_trained/model.cpkt\n"
     ]
    },
    {
     "name": "stdout",
     "output_type": "stream",
     "text": [
      "0.605492251202 0.883600870768 1.0 0.858283173565\n",
      "ISIC_0010014: 65/200\n"
     ]
    },
    {
     "name": "stderr",
     "output_type": "stream",
     "text": [
      "2017-03-30 19:15:47,898 Model restored from file: ../../unet_models/train_hist_4_20/train0_hist/unet_trained/model.cpkt\n"
     ]
    },
    {
     "name": "stdout",
     "output_type": "stream",
     "text": [
      "0.330390406548 0.895554860433 1.0 0.889879930929\n",
      "ISIC_0010019: 66/200\n"
     ]
    },
    {
     "name": "stderr",
     "output_type": "stream",
     "text": [
      "2017-03-30 19:15:50,180 Model restored from file: ../../unet_models/train_hist_4_20/train0_hist/unet_trained/model.cpkt\n"
     ]
    },
    {
     "name": "stdout",
     "output_type": "stream",
     "text": [
      "0.571658968247 0.846000671387 1.0 0.806161971831\n",
      "ISIC_0010040: 67/200\n"
     ]
    },
    {
     "name": "stderr",
     "output_type": "stream",
     "text": [
      "2017-03-30 19:15:52,346 Model restored from file: ../../unet_models/train_hist_4_20/train0_hist/unet_trained/model.cpkt\n"
     ]
    },
    {
     "name": "stdout",
     "output_type": "stream",
     "text": [
      "0.079886777569 0.747862497965 1.0 0.742219350612\n",
      "ISIC_0010058: 68/200\n"
     ]
    },
    {
     "name": "stderr",
     "output_type": "stream",
     "text": [
      "2017-03-30 19:15:54,486 Model restored from file: ../../unet_models/train_hist_4_20/train0_hist/unet_trained/model.cpkt\n"
     ]
    },
    {
     "name": "stdout",
     "output_type": "stream",
     "text": [
      "0.505073384422 0.890529632568 1.0 0.876762156158\n",
      "ISIC_0010081: 69/200\n"
     ]
    },
    {
     "name": "stderr",
     "output_type": "stream",
     "text": [
      "2017-03-30 19:15:56,642 Model restored from file: ../../unet_models/train_hist_4_20/train0_hist/unet_trained/model.cpkt\n"
     ]
    },
    {
     "name": "stdout",
     "output_type": "stream",
     "text": [
      "0.0527752310497 0.885705312093 1.0 0.884972818854\n",
      "ISIC_0010087: 70/200\n"
     ]
    },
    {
     "name": "stderr",
     "output_type": "stream",
     "text": [
      "/usr/local/lib/python2.7/dist-packages/skimage/io/_io.py:132: UserWarning: ./out_dir//ISIC_0010081_segmentation.png is a low contrast image\n",
      "  warn('%s is a low contrast image' % fname)\n",
      "2017-03-30 19:15:58,812 Model restored from file: ../../unet_models/train_hist_4_20/train0_hist/unet_trained/model.cpkt\n"
     ]
    },
    {
     "name": "stdout",
     "output_type": "stream",
     "text": [
      "0.0642950005909 0.969799041748 1.0 0.969736238532\n",
      "ISIC_0010092: 71/200\n"
     ]
    },
    {
     "name": "stderr",
     "output_type": "stream",
     "text": [
      "/usr/local/lib/python2.7/dist-packages/skimage/io/_io.py:132: UserWarning: ./out_dir//ISIC_0010087_segmentation.png is a low contrast image\n",
      "  warn('%s is a low contrast image' % fname)\n",
      "2017-03-30 19:16:01,010 Model restored from file: ../../unet_models/train_hist_4_20/train0_hist/unet_trained/model.cpkt\n"
     ]
    },
    {
     "name": "stdout",
     "output_type": "stream",
     "text": [
      "0.639086177514 0.950181325277 1.0 0.945361310693\n",
      "ISIC_0010180: 72/200\n"
     ]
    },
    {
     "name": "stderr",
     "output_type": "stream",
     "text": [
      "2017-03-30 19:16:03,223 Model restored from file: ../../unet_models/train_hist_4_20/train0_hist/unet_trained/model.cpkt\n"
     ]
    },
    {
     "name": "stdout",
     "output_type": "stream",
     "text": [
      "0.0650434512992 0.861965179443 1.0 0.860626797453\n",
      "ISIC_0010187: 73/200\n"
     ]
    },
    {
     "name": "stderr",
     "output_type": "stream",
     "text": [
      "/usr/local/lib/python2.7/dist-packages/skimage/io/_io.py:132: UserWarning: ./out_dir//ISIC_0010180_segmentation.png is a low contrast image\n",
      "  warn('%s is a low contrast image' % fname)\n",
      "2017-03-30 19:16:05,473 Model restored from file: ../../unet_models/train_hist_4_20/train0_hist/unet_trained/model.cpkt\n"
     ]
    },
    {
     "name": "stdout",
     "output_type": "stream",
     "text": [
      "0.546541976998 0.830997467041 1.0 0.787766670925\n",
      "ISIC_0010206: 74/200\n"
     ]
    },
    {
     "name": "stderr",
     "output_type": "stream",
     "text": [
      "2017-03-30 19:16:07,746 Model restored from file: ../../unet_models/train_hist_4_20/train0_hist/unet_trained/model.cpkt\n"
     ]
    },
    {
     "name": "stdout",
     "output_type": "stream",
     "text": [
      "0.497605126681 0.961321512858 1.0 0.959780723095\n",
      "ISIC_0010207: 75/200\n"
     ]
    },
    {
     "name": "stderr",
     "output_type": "stream",
     "text": [
      "2017-03-30 19:16:09,914 Model restored from file: ../../unet_models/train_hist_4_20/train0_hist/unet_trained/model.cpkt\n"
     ]
    },
    {
     "name": "stdout",
     "output_type": "stream",
     "text": [
      "0.389737991266 0.968724568685 0.998728382503 0.968112271378\n",
      "ISIC_0010220: 76/200\n"
     ]
    },
    {
     "name": "stderr",
     "output_type": "stream",
     "text": [
      "2017-03-30 19:16:12,169 Model restored from file: ../../unet_models/train_hist_4_20/train0_hist/unet_trained/model.cpkt\n"
     ]
    },
    {
     "name": "stdout",
     "output_type": "stream",
     "text": [
      "0.0147985271277 0.92821375529 1.0 0.928136265504\n",
      "ISIC_0010237: 77/200\n"
     ]
    },
    {
     "name": "stderr",
     "output_type": "stream",
     "text": [
      "/usr/local/lib/python2.7/dist-packages/skimage/io/_io.py:132: UserWarning: ./out_dir//ISIC_0010220_segmentation.png is a low contrast image\n",
      "  warn('%s is a low contrast image' % fname)\n",
      "2017-03-30 19:16:14,442 Model restored from file: ../../unet_models/train_hist_4_20/train0_hist/unet_trained/model.cpkt\n"
     ]
    },
    {
     "name": "stdout",
     "output_type": "stream",
     "text": [
      "0.153881980346 0.95379892985 1.0 0.953407435524\n",
      "ISIC_0010244: 78/200\n"
     ]
    },
    {
     "name": "stderr",
     "output_type": "stream",
     "text": [
      "/usr/local/lib/python2.7/dist-packages/skimage/io/_io.py:132: UserWarning: ./out_dir//ISIC_0010237_segmentation.png is a low contrast image\n",
      "  warn('%s is a low contrast image' % fname)\n",
      "2017-03-30 19:16:16,892 Model restored from file: ../../unet_models/train_hist_4_20/train0_hist/unet_trained/model.cpkt\n"
     ]
    },
    {
     "name": "stdout",
     "output_type": "stream",
     "text": [
      "0.232523437247 0.969916025798 1.0 0.969639300673\n",
      "ISIC_0010326: 79/200\n"
     ]
    },
    {
     "name": "stderr",
     "output_type": "stream",
     "text": [
      "/usr/local/lib/python2.7/dist-packages/skimage/io/_io.py:132: UserWarning: ./out_dir//ISIC_0010244_segmentation.png is a low contrast image\n",
      "  warn('%s is a low contrast image' % fname)\n",
      "2017-03-30 19:16:19,237 Model restored from file: ../../unet_models/train_hist_4_20/train0_hist/unet_trained/model.cpkt\n"
     ]
    },
    {
     "name": "stdout",
     "output_type": "stream",
     "text": [
      "0.0926288417783 0.68052927653 1.0 0.669759090622\n",
      "ISIC_0010362: 80/200\n"
     ]
    },
    {
     "name": "stderr",
     "output_type": "stream",
     "text": [
      "2017-03-30 19:16:21,596 Model restored from file: ../../unet_models/train_hist_4_20/train0_hist/unet_trained/model.cpkt\n"
     ]
    },
    {
     "name": "stdout",
     "output_type": "stream",
     "text": [
      "0.505962914519 0.975505828857 1.0 0.974875571277\n",
      "ISIC_0010371: 81/200\n"
     ]
    },
    {
     "name": "stderr",
     "output_type": "stream",
     "text": [
      "2017-03-30 19:16:23,954 Model restored from file: ../../unet_models/train_hist_4_20/train0_hist/unet_trained/model.cpkt\n"
     ]
    },
    {
     "name": "stdout",
     "output_type": "stream",
     "text": [
      "0.552062782509 0.908768971761 0.999739960203 0.897241197506\n",
      "ISIC_0010465: 82/200\n"
     ]
    },
    {
     "name": "stderr",
     "output_type": "stream",
     "text": [
      "2017-03-30 19:16:26,349 Model restored from file: ../../unet_models/train_hist_4_20/train0_hist/unet_trained/model.cpkt\n"
     ]
    },
    {
     "name": "stdout",
     "output_type": "stream",
     "text": [
      "0.413126554381 0.889278411865 1.0 0.879919077249\n",
      "ISIC_0010473: 83/200\n"
     ]
    },
    {
     "name": "stderr",
     "output_type": "stream",
     "text": [
      "2017-03-30 19:16:28,666 Model restored from file: ../../unet_models/train_hist_4_20/train0_hist/unet_trained/model.cpkt\n"
     ]
    },
    {
     "name": "stdout",
     "output_type": "stream",
     "text": [
      "0.340961616316 0.737115224202 1.0 0.695732863164\n",
      "ISIC_0010476: 84/200\n"
     ]
    },
    {
     "name": "stderr",
     "output_type": "stream",
     "text": [
      "2017-03-30 19:16:31,008 Model restored from file: ../../unet_models/train_hist_4_20/train0_hist/unet_trained/model.cpkt\n"
     ]
    },
    {
     "name": "stdout",
     "output_type": "stream",
     "text": [
      "0.279034053826 0.904485066732 1.0 0.900818633147\n",
      "ISIC_0010848: 85/200\n"
     ]
    },
    {
     "name": "stderr",
     "output_type": "stream",
     "text": [
      "2017-03-30 19:16:33,348 Model restored from file: ../../unet_models/train_hist_4_20/train0_hist/unet_trained/model.cpkt\n"
     ]
    },
    {
     "name": "stdout",
     "output_type": "stream",
     "text": [
      "0.00642570281124 0.871019999186 1.0 0.870912321069\n",
      "ISIC_0010860: 86/200\n"
     ]
    },
    {
     "name": "stderr",
     "output_type": "stream",
     "text": [
      "/usr/local/lib/python2.7/dist-packages/skimage/io/_io.py:132: UserWarning: ./out_dir//ISIC_0010848_segmentation.png is a low contrast image\n",
      "  warn('%s is a low contrast image' % fname)\n",
      "2017-03-30 19:16:35,764 Model restored from file: ../../unet_models/train_hist_4_20/train0_hist/unet_trained/model.cpkt\n"
     ]
    },
    {
     "name": "stdout",
     "output_type": "stream",
     "text": [
      "0.675305288403 0.915644327799 0.99877663887 0.897929623871\n",
      "ISIC_0011118: 87/200\n"
     ]
    },
    {
     "name": "stderr",
     "output_type": "stream",
     "text": [
      "2017-03-30 19:16:38,170 Model restored from file: ../../unet_models/train_hist_4_20/train0_hist/unet_trained/model.cpkt\n"
     ]
    },
    {
     "name": "stdout",
     "output_type": "stream",
     "text": [
      "0.328468573652 0.903460184733 1.0 0.898675556789\n",
      "ISIC_0011121: 88/200\n"
     ]
    },
    {
     "name": "stderr",
     "output_type": "stream",
     "text": [
      "2017-03-30 19:16:40,632 Model restored from file: ../../unet_models/train_hist_4_20/train0_hist/unet_trained/model.cpkt\n"
     ]
    },
    {
     "name": "stdout",
     "output_type": "stream",
     "text": [
      "0.0148767208324 0.0757993062337 1.0 0.0627179362852\n",
      "ISIC_0011155: 89/200\n"
     ]
    },
    {
     "name": "stderr",
     "output_type": "stream",
     "text": [
      "2017-03-30 19:16:43,251 Model restored from file: ../../unet_models/train_hist_4_20/train0_hist/unet_trained/model.cpkt\n"
     ]
    },
    {
     "name": "stdout",
     "output_type": "stream",
     "text": [
      "0.148136992985 0.640359242757 1.0 0.616366541517\n",
      "ISIC_0011158: 90/200\n"
     ]
    },
    {
     "name": "stderr",
     "output_type": "stream",
     "text": [
      "2017-03-30 19:16:45,728 Model restored from file: ../../unet_models/train_hist_4_20/train0_hist/unet_trained/model.cpkt\n"
     ]
    },
    {
     "name": "stdout",
     "output_type": "stream",
     "text": [
      "0.011220943672 0.358182271322 1.0 0.353473275403\n",
      "ISIC_0011205: 91/200\n"
     ]
    },
    {
     "name": "stderr",
     "output_type": "stream",
     "text": [
      "/usr/local/lib/python2.7/dist-packages/skimage/io/_io.py:132: UserWarning: ./out_dir//ISIC_0011158_segmentation.png is a low contrast image\n",
      "  warn('%s is a low contrast image' % fname)\n",
      "2017-03-30 19:16:48,200 Model restored from file: ../../unet_models/train_hist_4_20/train0_hist/unet_trained/model.cpkt\n"
     ]
    },
    {
     "name": "stdout",
     "output_type": "stream",
     "text": [
      "0.669269501064 0.968762715658 1.0 0.966654902812\n",
      "ISIC_0011210: 92/200\n"
     ]
    },
    {
     "name": "stderr",
     "output_type": "stream",
     "text": [
      "2017-03-30 19:16:50,649 Model restored from file: ../../unet_models/train_hist_4_20/train0_hist/unet_trained/model.cpkt\n"
     ]
    },
    {
     "name": "stdout",
     "output_type": "stream",
     "text": [
      "0.621820034159 0.983951568604 1.0 0.983516612684\n",
      "ISIC_0011219: 93/200\n"
     ]
    },
    {
     "name": "stderr",
     "output_type": "stream",
     "text": [
      "2017-03-30 19:16:53,126 Model restored from file: ../../unet_models/train_hist_4_20/train0_hist/unet_trained/model.cpkt\n"
     ]
    },
    {
     "name": "stdout",
     "output_type": "stream",
     "text": [
      "0.519915063381 0.952564239502 1.0 0.949995442555\n",
      "ISIC_0011220: 94/200\n"
     ]
    },
    {
     "name": "stderr",
     "output_type": "stream",
     "text": [
      "2017-03-30 19:16:55,597 Model restored from file: ../../unet_models/train_hist_4_20/train0_hist/unet_trained/model.cpkt\n"
     ]
    },
    {
     "name": "stdout",
     "output_type": "stream",
     "text": [
      "0.125485597009 0.969657897949 1.0 0.969525215579\n",
      "ISIC_0011227: 95/200\n"
     ]
    },
    {
     "name": "stderr",
     "output_type": "stream",
     "text": [
      "/usr/local/lib/python2.7/dist-packages/skimage/io/_io.py:132: UserWarning: ./out_dir//ISIC_0011220_segmentation.png is a low contrast image\n",
      "  warn('%s is a low contrast image' % fname)\n",
      "2017-03-30 19:16:58,102 Model restored from file: ../../unet_models/train_hist_4_20/train0_hist/unet_trained/model.cpkt\n"
     ]
    },
    {
     "name": "stdout",
     "output_type": "stream",
     "text": [
      "0.0 0.952934265137 0.0 0.952934265137\n",
      "ISIC_0011326: 96/200\n"
     ]
    },
    {
     "name": "stderr",
     "output_type": "stream",
     "text": [
      "/usr/local/lib/python2.7/dist-packages/skimage/io/_io.py:132: UserWarning: ./out_dir//ISIC_0011227_segmentation.png is a low contrast image\n",
      "  warn('%s is a low contrast image' % fname)\n",
      "2017-03-30 19:17:00,638 Model restored from file: ../../unet_models/train_hist_4_20/train0_hist/unet_trained/model.cpkt\n"
     ]
    },
    {
     "name": "stdout",
     "output_type": "stream",
     "text": [
      "0.329112994972 0.860527038574 1.0 0.850283365\n",
      "ISIC_0011333: 97/200\n"
     ]
    },
    {
     "name": "stderr",
     "output_type": "stream",
     "text": [
      "2017-03-30 19:17:03,219 Model restored from file: ../../unet_models/train_hist_4_20/train0_hist/unet_trained/model.cpkt\n"
     ]
    },
    {
     "name": "stdout",
     "output_type": "stream",
     "text": [
      "0.598971711593 0.878304799398 1.0 0.851271507783\n",
      "ISIC_0011343: 98/200\n"
     ]
    },
    {
     "name": "stderr",
     "output_type": "stream",
     "text": [
      "2017-03-30 19:17:05,908 Model restored from file: ../../unet_models/train_hist_4_20/train0_hist/unet_trained/model.cpkt\n"
     ]
    },
    {
     "name": "stdout",
     "output_type": "stream",
     "text": [
      "0.0943571455106 0.876001993815 1.0 0.87437908362\n",
      "ISIC_0011363: 99/200\n"
     ]
    },
    {
     "name": "stderr",
     "output_type": "stream",
     "text": [
      "2017-03-30 19:17:08,464 Model restored from file: ../../unet_models/train_hist_4_20/train0_hist/unet_trained/model.cpkt\n"
     ]
    },
    {
     "name": "stdout",
     "output_type": "stream",
     "text": [
      "0.280663738787 0.574504852295 1.0 0.489804413056\n",
      "ISIC_0011366: 100/200\n"
     ]
    },
    {
     "name": "stderr",
     "output_type": "stream",
     "text": [
      "2017-03-30 19:17:11,203 Model restored from file: ../../unet_models/train_hist_4_20/train0_hist/unet_trained/model.cpkt\n"
     ]
    },
    {
     "name": "stdout",
     "output_type": "stream",
     "text": [
      "0.0245513208308 0.60634358724 1.0 0.602404191924\n",
      "ISIC_0012107: 101/200\n"
     ]
    },
    {
     "name": "stderr",
     "output_type": "stream",
     "text": [
      "/usr/local/lib/python2.7/dist-packages/skimage/io/_io.py:132: UserWarning: ./out_dir//ISIC_0011366_segmentation.png is a low contrast image\n",
      "  warn('%s is a low contrast image' % fname)\n",
      "2017-03-30 19:17:13,795 Model restored from file: ../../unet_models/train_hist_4_20/train0_hist/unet_trained/model.cpkt\n"
     ]
    },
    {
     "name": "stdout",
     "output_type": "stream",
     "text": [
      "0.751359859622 0.962031914894 0.989768849121 0.958395034802\n",
      "ISIC_0012137: 102/200\n"
     ]
    },
    {
     "name": "stderr",
     "output_type": "stream",
     "text": [
      "2017-03-30 19:17:20,832 Model restored from file: ../../unet_models/train_hist_4_20/train0_hist/unet_trained/model.cpkt\n"
     ]
    },
    {
     "name": "stdout",
     "output_type": "stream",
     "text": [
      "0.883863620369 0.993965425532 0.921299383786 0.997777857086\n",
      "ISIC_0012148: 103/200\n"
     ]
    },
    {
     "name": "stderr",
     "output_type": "stream",
     "text": [
      "2017-03-30 19:17:27,914 Model restored from file: ../../unet_models/train_hist_4_20/train0_hist/unet_trained/model.cpkt\n"
     ]
    },
    {
     "name": "stdout",
     "output_type": "stream",
     "text": [
      "0.154499261185 0.958815990691 1.0 0.958503706249\n"
     ]
    },
    {
     "name": "stderr",
     "output_type": "stream",
     "text": [
      "/usr/local/lib/python2.7/dist-packages/skimage/io/_io.py:132: UserWarning: ./out_dir//ISIC_0012148_segmentation.png is a low contrast image\n",
      "  warn('%s is a low contrast image' % fname)\n"
     ]
    },
    {
     "name": "stdout",
     "output_type": "stream",
     "text": [
      "ISIC_0012237: 104/200\n"
     ]
    },
    {
     "name": "stderr",
     "output_type": "stream",
     "text": [
      "2017-03-30 19:17:35,006 Model restored from file: ../../unet_models/train_hist_4_20/train0_hist/unet_trained/model.cpkt\n"
     ]
    },
    {
     "name": "stdout",
     "output_type": "stream",
     "text": [
      "0.115193830763 0.916569496269 0.940445805683 0.916290508895\n",
      "ISIC_0012250: 105/200\n"
     ]
    },
    {
     "name": "stderr",
     "output_type": "stream",
     "text": [
      "2017-03-30 19:17:47,397 Model restored from file: ../../unet_models/train_hist_4_20/train0_hist/unet_trained/model.cpkt\n"
     ]
    },
    {
     "name": "stdout",
     "output_type": "stream",
     "text": [
      "0.158879760244 0.972941821809 1.0 0.972802815988\n"
     ]
    },
    {
     "name": "stderr",
     "output_type": "stream",
     "text": [
      "/usr/local/lib/python2.7/dist-packages/skimage/io/_io.py:132: UserWarning: ./out_dir//ISIC_0012250_segmentation.png is a low contrast image\n",
      "  warn('%s is a low contrast image' % fname)\n"
     ]
    },
    {
     "name": "stdout",
     "output_type": "stream",
     "text": [
      "ISIC_0012263: 106/200\n"
     ]
    },
    {
     "name": "stderr",
     "output_type": "stream",
     "text": [
      "2017-03-30 19:17:54,502 Model restored from file: ../../unet_models/train_hist_4_20/train0_hist/unet_trained/model.cpkt\n"
     ]
    },
    {
     "name": "stdout",
     "output_type": "stream",
     "text": [
      "0.517672223668 0.978599802952 0.82258286827 0.983081282809\n",
      "ISIC_0012303: 107/200\n"
     ]
    },
    {
     "name": "stderr",
     "output_type": "stream",
     "text": [
      "2017-03-30 19:18:06,897 Model restored from file: ../../unet_models/train_hist_4_20/train0_hist/unet_trained/model.cpkt\n"
     ]
    },
    {
     "name": "stdout",
     "output_type": "stream",
     "text": [
      "0.77783918064 0.992983543883 0.897454426214 0.995672089145\n",
      "ISIC_0012333: 108/200\n"
     ]
    },
    {
     "name": "stderr",
     "output_type": "stream",
     "text": [
      "2017-03-30 19:18:13,999 Model restored from file: ../../unet_models/train_hist_4_20/train0_hist/unet_trained/model.cpkt\n"
     ]
    },
    {
     "name": "stdout",
     "output_type": "stream",
     "text": [
      "0.440543737409 0.989936668883 0.981208578603 0.990007731992\n"
     ]
    },
    {
     "name": "stderr",
     "output_type": "stream",
     "text": [
      "/usr/local/lib/python2.7/dist-packages/skimage/io/_io.py:132: UserWarning: ./out_dir//ISIC_0012333_segmentation.png is a low contrast image\n",
      "  warn('%s is a low contrast image' % fname)\n"
     ]
    },
    {
     "name": "stdout",
     "output_type": "stream",
     "text": [
      "ISIC_0012360: 109/200\n"
     ]
    },
    {
     "name": "stderr",
     "output_type": "stream",
     "text": [
      "2017-03-30 19:18:21,129 Model restored from file: ../../unet_models/train_hist_4_20/train0_hist/unet_trained/model.cpkt\n"
     ]
    },
    {
     "name": "stdout",
     "output_type": "stream",
     "text": [
      "0.657039733484 0.981536070479 0.852935518004 0.987100156351\n",
      "ISIC_0012433: 110/200\n"
     ]
    },
    {
     "name": "stderr",
     "output_type": "stream",
     "text": [
      "2017-03-30 19:18:28,382 Model restored from file: ../../unet_models/train_hist_4_20/train0_hist/unet_trained/model.cpkt\n"
     ]
    },
    {
     "name": "stdout",
     "output_type": "stream",
     "text": [
      "0.0 0.929449135638 0.0 0.929449135638\n"
     ]
    },
    {
     "name": "stderr",
     "output_type": "stream",
     "text": [
      "/usr/local/lib/python2.7/dist-packages/skimage/io/_io.py:132: UserWarning: ./out_dir//ISIC_0012433_segmentation.png is a low contrast image\n",
      "  warn('%s is a low contrast image' % fname)\n"
     ]
    },
    {
     "name": "stdout",
     "output_type": "stream",
     "text": [
      "ISIC_0012523: 111/200\n"
     ]
    },
    {
     "name": "stderr",
     "output_type": "stream",
     "text": [
      "2017-03-30 19:18:35,740 Model restored from file: ../../unet_models/train_hist_4_20/train0_hist/unet_trained/model.cpkt\n"
     ]
    },
    {
     "name": "stdout",
     "output_type": "stream",
     "text": [
      "0.0308513188542 0.821567144527 0.0308841476038 0.999760189079\n",
      "ISIC_0012662: 112/200\n"
     ]
    },
    {
     "name": "stderr",
     "output_type": "stream",
     "text": [
      "2017-03-30 19:18:48,225 Model restored from file: ../../unet_models/train_hist_4_20/train0_hist/unet_trained/model.cpkt\n"
     ]
    },
    {
     "name": "stdout",
     "output_type": "stream",
     "text": [
      "0.0 0.991206781915 0.0 0.991206781915\n"
     ]
    },
    {
     "name": "stderr",
     "output_type": "stream",
     "text": [
      "/usr/local/lib/python2.7/dist-packages/skimage/io/_io.py:132: UserWarning: ./out_dir//ISIC_0012662_segmentation.png is a low contrast image\n",
      "  warn('%s is a low contrast image' % fname)\n"
     ]
    },
    {
     "name": "stdout",
     "output_type": "stream",
     "text": [
      "ISIC_0012663: 113/200\n"
     ]
    },
    {
     "name": "stderr",
     "output_type": "stream",
     "text": [
      "2017-03-30 19:18:55,361 Model restored from file: ../../unet_models/train_hist_4_20/train0_hist/unet_trained/model.cpkt\n"
     ]
    },
    {
     "name": "stdout",
     "output_type": "stream",
     "text": [
      "0.24754088819 0.980659574468 1.0 0.980535732419\n"
     ]
    },
    {
     "name": "stderr",
     "output_type": "stream",
     "text": [
      "/usr/local/lib/python2.7/dist-packages/skimage/io/_io.py:132: UserWarning: ./out_dir//ISIC_0012663_segmentation.png is a low contrast image\n",
      "  warn('%s is a low contrast image' % fname)\n"
     ]
    },
    {
     "name": "stdout",
     "output_type": "stream",
     "text": [
      "ISIC_0012683: 114/200\n"
     ]
    },
    {
     "name": "stderr",
     "output_type": "stream",
     "text": [
      "2017-03-30 19:19:02,545 Model restored from file: ../../unet_models/train_hist_4_20/train0_hist/unet_trained/model.cpkt\n"
     ]
    },
    {
     "name": "stdout",
     "output_type": "stream",
     "text": [
      "0.432258402262 0.996394614362 0.957277838966 0.996507105065\n"
     ]
    },
    {
     "name": "stderr",
     "output_type": "stream",
     "text": [
      "/usr/local/lib/python2.7/dist-packages/skimage/io/_io.py:132: UserWarning: ./out_dir//ISIC_0012683_segmentation.png is a low contrast image\n",
      "  warn('%s is a low contrast image' % fname)\n"
     ]
    },
    {
     "name": "stdout",
     "output_type": "stream",
     "text": [
      "ISIC_0012725: 115/200\n"
     ]
    },
    {
     "name": "stderr",
     "output_type": "stream",
     "text": [
      "2017-03-30 19:19:09,975 Model restored from file: ../../unet_models/train_hist_4_20/train0_hist/unet_trained/model.cpkt\n"
     ]
    },
    {
     "name": "stdout",
     "output_type": "stream",
     "text": [
      "0.639286443876 0.990020777926 0.922209509942 0.991346680844\n",
      "ISIC_0012737: 116/200\n"
     ]
    },
    {
     "name": "stderr",
     "output_type": "stream",
     "text": [
      "2017-03-30 19:19:17,592 Model restored from file: ../../unet_models/train_hist_4_20/train0_hist/unet_trained/model.cpkt\n"
     ]
    },
    {
     "name": "stdout",
     "output_type": "stream",
     "text": [
      "0.0 0.9390625 0.0 0.9390625\n"
     ]
    },
    {
     "name": "stderr",
     "output_type": "stream",
     "text": [
      "/usr/local/lib/python2.7/dist-packages/skimage/io/_io.py:132: UserWarning: ./out_dir//ISIC_0012737_segmentation.png is a low contrast image\n",
      "  warn('%s is a low contrast image' % fname)\n"
     ]
    },
    {
     "name": "stdout",
     "output_type": "stream",
     "text": [
      "ISIC_0012739: 117/200\n"
     ]
    },
    {
     "name": "stderr",
     "output_type": "stream",
     "text": [
      "2017-03-30 19:19:25,100 Model restored from file: ../../unet_models/train_hist_4_20/train0_hist/unet_trained/model.cpkt\n"
     ]
    },
    {
     "name": "stdout",
     "output_type": "stream",
     "text": [
      "0.483616351557 0.987428856383 0.518977417606 0.998302753183\n",
      "ISIC_0012740: 118/200\n"
     ]
    },
    {
     "name": "stderr",
     "output_type": "stream",
     "text": [
      "2017-03-30 19:19:32,328 Model restored from file: ../../unet_models/train_hist_4_20/train0_hist/unet_trained/model.cpkt\n"
     ]
    },
    {
     "name": "stdout",
     "output_type": "stream",
     "text": [
      "0.524302340573 0.993253490691 0.722273351094 0.996072263235\n",
      "ISIC_0012772: 119/200\n"
     ]
    },
    {
     "name": "stderr",
     "output_type": "stream",
     "text": [
      "2017-03-30 19:19:39,633 Model restored from file: ../../unet_models/train_hist_4_20/train0_hist/unet_trained/model.cpkt\n"
     ]
    },
    {
     "name": "stdout",
     "output_type": "stream",
     "text": [
      "0.025271618885 0.906720595316 1.0 0.906494457824\n"
     ]
    },
    {
     "name": "stderr",
     "output_type": "stream",
     "text": [
      "/usr/local/lib/python2.7/dist-packages/skimage/io/_io.py:132: UserWarning: ./out_dir//ISIC_0012772_segmentation.png is a low contrast image\n",
      "  warn('%s is a low contrast image' % fname)\n"
     ]
    },
    {
     "name": "stdout",
     "output_type": "stream",
     "text": [
      "ISIC_0012800: 120/200\n"
     ]
    },
    {
     "name": "stderr",
     "output_type": "stream",
     "text": [
      "2017-03-30 19:19:50,358 Model restored from file: ../../unet_models/train_hist_4_20/train0_hist/unet_trained/model.cpkt\n"
     ]
    },
    {
     "name": "stdout",
     "output_type": "stream",
     "text": [
      "0.149490035173 0.755501994681 0.997403609484 0.74461010764\n",
      "ISIC_0012806: 121/200\n"
     ]
    },
    {
     "name": "stderr",
     "output_type": "stream",
     "text": [
      "2017-03-30 19:19:57,271 Model restored from file: ../../unet_models/train_hist_4_20/train0_hist/unet_trained/model.cpkt\n"
     ]
    },
    {
     "name": "stdout",
     "output_type": "stream",
     "text": [
      "0.0 0.830919676564 0.0 0.830919676564\n"
     ]
    },
    {
     "name": "stderr",
     "output_type": "stream",
     "text": [
      "/usr/local/lib/python2.7/dist-packages/skimage/io/_io.py:132: UserWarning: ./out_dir//ISIC_0012806_segmentation.png is a low contrast image\n",
      "  warn('%s is a low contrast image' % fname)\n"
     ]
    },
    {
     "name": "stdout",
     "output_type": "stream",
     "text": [
      "ISIC_0012845: 122/200\n"
     ]
    },
    {
     "name": "stderr",
     "output_type": "stream",
     "text": [
      "2017-03-30 19:20:07,982 Model restored from file: ../../unet_models/train_hist_4_20/train0_hist/unet_trained/model.cpkt\n"
     ]
    },
    {
     "name": "stdout",
     "output_type": "stream",
     "text": [
      "0.687306930972 0.977890791223 1.0 0.97676147866\n",
      "ISIC_0012877: 123/200\n"
     ]
    },
    {
     "name": "stderr",
     "output_type": "stream",
     "text": [
      "2017-03-30 19:20:15,084 Model restored from file: ../../unet_models/train_hist_4_20/train0_hist/unet_trained/model.cpkt\n"
     ]
    },
    {
     "name": "stdout",
     "output_type": "stream",
     "text": [
      "0.0 0.919395581446 0.0 0.919395581446\n"
     ]
    },
    {
     "name": "stderr",
     "output_type": "stream",
     "text": [
      "/usr/local/lib/python2.7/dist-packages/skimage/io/_io.py:132: UserWarning: ./out_dir//ISIC_0012877_segmentation.png is a low contrast image\n",
      "  warn('%s is a low contrast image' % fname)\n"
     ]
    },
    {
     "name": "stdout",
     "output_type": "stream",
     "text": [
      "ISIC_0012878: 124/200\n"
     ]
    },
    {
     "name": "stderr",
     "output_type": "stream",
     "text": [
      "2017-03-30 19:20:26,461 Model restored from file: ../../unet_models/train_hist_4_20/train0_hist/unet_trained/model.cpkt\n"
     ]
    },
    {
     "name": "stdout",
     "output_type": "stream",
     "text": [
      "0.0 0.938073422833 0.0 0.938073422833\n"
     ]
    },
    {
     "name": "stderr",
     "output_type": "stream",
     "text": [
      "/usr/local/lib/python2.7/dist-packages/skimage/io/_io.py:132: UserWarning: ./out_dir//ISIC_0012878_segmentation.png is a low contrast image\n",
      "  warn('%s is a low contrast image' % fname)\n"
     ]
    },
    {
     "name": "stdout",
     "output_type": "stream",
     "text": [
      "ISIC_0012889: 125/200\n"
     ]
    },
    {
     "name": "stderr",
     "output_type": "stream",
     "text": [
      "2017-03-30 19:20:38,212 Model restored from file: ../../unet_models/train_hist_4_20/train0_hist/unet_trained/model.cpkt\n"
     ]
    },
    {
     "name": "stdout",
     "output_type": "stream",
     "text": [
      "0.0 0.917351396277 0.0 0.917351396277\n"
     ]
    },
    {
     "name": "stderr",
     "output_type": "stream",
     "text": [
      "/usr/local/lib/python2.7/dist-packages/skimage/io/_io.py:132: UserWarning: ./out_dir//ISIC_0012889_segmentation.png is a low contrast image\n",
      "  warn('%s is a low contrast image' % fname)\n"
     ]
    },
    {
     "name": "stdout",
     "output_type": "stream",
     "text": [
      "ISIC_0012911: 126/200\n"
     ]
    },
    {
     "name": "stderr",
     "output_type": "stream",
     "text": [
      "2017-03-30 19:20:46,037 Model restored from file: ../../unet_models/train_hist_4_20/train0_hist/unet_trained/model.cpkt\n"
     ]
    },
    {
     "name": "stdout",
     "output_type": "stream",
     "text": [
      "0.561385616562 0.98949119016 0.942155207545 0.990176750367\n",
      "ISIC_0012932: 127/200\n"
     ]
    },
    {
     "name": "stderr",
     "output_type": "stream",
     "text": [
      "2017-03-30 19:20:53,797 Model restored from file: ../../unet_models/train_hist_4_20/train0_hist/unet_trained/model.cpkt\n"
     ]
    },
    {
     "name": "stdout",
     "output_type": "stream",
     "text": [
      "0.0336551551414 0.830680352394 1.0 0.829675961504\n"
     ]
    },
    {
     "name": "stderr",
     "output_type": "stream",
     "text": [
      "/usr/local/lib/python2.7/dist-packages/skimage/io/_io.py:132: UserWarning: ./out_dir//ISIC_0012932_segmentation.png is a low contrast image\n",
      "  warn('%s is a low contrast image' % fname)\n"
     ]
    },
    {
     "name": "stdout",
     "output_type": "stream",
     "text": [
      "ISIC_0013000: 128/200\n"
     ]
    },
    {
     "name": "stderr",
     "output_type": "stream",
     "text": [
      "2017-03-30 19:21:01,446 Model restored from file: ../../unet_models/train_hist_4_20/train0_hist/unet_trained/model.cpkt\n"
     ]
    },
    {
     "name": "stdout",
     "output_type": "stream",
     "text": [
      "0.0 0.98715941374 0.0 0.98715941374\n"
     ]
    },
    {
     "name": "stderr",
     "output_type": "stream",
     "text": [
      "/usr/local/lib/python2.7/dist-packages/skimage/io/_io.py:132: UserWarning: ./out_dir//ISIC_0013000_segmentation.png is a low contrast image\n",
      "  warn('%s is a low contrast image' % fname)\n"
     ]
    },
    {
     "name": "stdout",
     "output_type": "stream",
     "text": [
      "ISIC_0013012: 129/200\n"
     ]
    },
    {
     "name": "stderr",
     "output_type": "stream",
     "text": [
      "2017-03-30 19:21:12,655 Model restored from file: ../../unet_models/train_hist_4_20/train0_hist/unet_trained/model.cpkt\n"
     ]
    },
    {
     "name": "stdout",
     "output_type": "stream",
     "text": [
      "0.32507450342 0.965817985372 1.0 0.965245806331\n",
      "ISIC_0013031: 130/200\n"
     ]
    },
    {
     "name": "stderr",
     "output_type": "stream",
     "text": [
      "2017-03-30 19:21:20,385 Model restored from file: ../../unet_models/train_hist_4_20/train0_hist/unet_trained/model.cpkt\n"
     ]
    },
    {
     "name": "stdout",
     "output_type": "stream",
     "text": [
      "0.0746493210306 0.948473071809 1.0 0.948257993291\n"
     ]
    },
    {
     "name": "stderr",
     "output_type": "stream",
     "text": [
      "/usr/local/lib/python2.7/dist-packages/skimage/io/_io.py:132: UserWarning: ./out_dir//ISIC_0013031_segmentation.png is a low contrast image\n",
      "  warn('%s is a low contrast image' % fname)\n"
     ]
    },
    {
     "name": "stdout",
     "output_type": "stream",
     "text": [
      "ISIC_0013032: 131/200\n"
     ]
    },
    {
     "name": "stderr",
     "output_type": "stream",
     "text": [
      "2017-03-30 19:21:27,995 Model restored from file: ../../unet_models/train_hist_4_20/train0_hist/unet_trained/model.cpkt\n"
     ]
    },
    {
     "name": "stdout",
     "output_type": "stream",
     "text": [
      "0.760661203409 0.988091422872 0.988714229884 0.988066633136\n",
      "ISIC_0013063: 132/200\n"
     ]
    },
    {
     "name": "stderr",
     "output_type": "stream",
     "text": [
      "2017-03-30 19:21:36,142 Model restored from file: ../../unet_models/train_hist_4_20/train0_hist/unet_trained/model.cpkt\n"
     ]
    },
    {
     "name": "stdout",
     "output_type": "stream",
     "text": [
      "0.0 0.831289935338 0.0 0.831289935338\n"
     ]
    },
    {
     "name": "stderr",
     "output_type": "stream",
     "text": [
      "/usr/local/lib/python2.7/dist-packages/skimage/io/_io.py:132: UserWarning: ./out_dir//ISIC_0013063_segmentation.png is a low contrast image\n",
      "  warn('%s is a low contrast image' % fname)\n"
     ]
    },
    {
     "name": "stdout",
     "output_type": "stream",
     "text": [
      "ISIC_0013065: 133/200\n"
     ]
    },
    {
     "name": "stderr",
     "output_type": "stream",
     "text": [
      "2017-03-30 19:21:47,866 Model restored from file: ../../unet_models/train_hist_4_20/train0_hist/unet_trained/model.cpkt\n"
     ]
    },
    {
     "name": "stdout",
     "output_type": "stream",
     "text": [
      "0.509817787359 0.992886069502 0.958402168301 0.993154357618\n"
     ]
    },
    {
     "name": "stderr",
     "output_type": "stream",
     "text": [
      "/usr/local/lib/python2.7/dist-packages/skimage/io/_io.py:132: UserWarning: ./out_dir//ISIC_0013065_segmentation.png is a low contrast image\n",
      "  warn('%s is a low contrast image' % fname)\n"
     ]
    },
    {
     "name": "stdout",
     "output_type": "stream",
     "text": [
      "ISIC_0013084: 134/200\n"
     ]
    },
    {
     "name": "stderr",
     "output_type": "stream",
     "text": [
      "2017-03-30 19:21:58,948 Model restored from file: ../../unet_models/train_hist_4_20/train0_hist/unet_trained/model.cpkt\n"
     ]
    },
    {
     "name": "stdout",
     "output_type": "stream",
     "text": [
      "0.901317446752 0.972129986702 0.951146373306 0.979797846829\n",
      "ISIC_0013097: 135/200\n"
     ]
    },
    {
     "name": "stderr",
     "output_type": "stream",
     "text": [
      "2017-03-30 19:22:07,353 Model restored from file: ../../unet_models/train_hist_4_20/train0_hist/unet_trained/model.cpkt\n"
     ]
    },
    {
     "name": "stdout",
     "output_type": "stream",
     "text": [
      "0.60888453286 0.973002825798 1.0 0.971818382781\n",
      "ISIC_0013150: 136/200\n"
     ]
    },
    {
     "name": "stderr",
     "output_type": "stream",
     "text": [
      "2017-03-30 19:22:16,545 Model restored from file: ../../unet_models/train_hist_4_20/train0_hist/unet_trained/model.cpkt\n"
     ]
    },
    {
     "name": "stdout",
     "output_type": "stream",
     "text": [
      "0.0 0.938106881649 0.0 0.93829965731\n"
     ]
    },
    {
     "name": "stderr",
     "output_type": "stream",
     "text": [
      "/usr/local/lib/python2.7/dist-packages/skimage/io/_io.py:132: UserWarning: ./out_dir//ISIC_0013150_segmentation.png is a low contrast image\n",
      "  warn('%s is a low contrast image' % fname)\n"
     ]
    },
    {
     "name": "stdout",
     "output_type": "stream",
     "text": [
      "ISIC_0013172: 137/200\n"
     ]
    },
    {
     "name": "stderr",
     "output_type": "stream",
     "text": [
      "2017-03-30 19:22:24,661 Model restored from file: ../../unet_models/train_hist_4_20/train0_hist/unet_trained/model.cpkt\n"
     ]
    },
    {
     "name": "stdout",
     "output_type": "stream",
     "text": [
      "0.65575734686 0.991212599734 0.960851851498 0.991750903752\n",
      "ISIC_0013173: 138/200\n"
     ]
    },
    {
     "name": "stderr",
     "output_type": "stream",
     "text": [
      "2017-03-30 19:22:32,852 Model restored from file: ../../unet_models/train_hist_4_20/train0_hist/unet_trained/model.cpkt\n"
     ]
    },
    {
     "name": "stdout",
     "output_type": "stream",
     "text": [
      "0.0689602909973 0.992655006504 1.0 0.992651008438\n"
     ]
    },
    {
     "name": "stderr",
     "output_type": "stream",
     "text": [
      "/usr/local/lib/python2.7/dist-packages/skimage/io/_io.py:132: UserWarning: ./out_dir//ISIC_0013173_segmentation.png is a low contrast image\n",
      "  warn('%s is a low contrast image' % fname)\n"
     ]
    },
    {
     "name": "stdout",
     "output_type": "stream",
     "text": [
      "ISIC_0013238: 139/200\n"
     ]
    },
    {
     "name": "stderr",
     "output_type": "stream",
     "text": [
      "2017-03-30 19:22:44,826 Model restored from file: ../../unet_models/train_hist_4_20/train0_hist/unet_trained/model.cpkt\n"
     ]
    },
    {
     "name": "stdout",
     "output_type": "stream",
     "text": [
      "0.6356299117 0.979816213747 0.984811495329 0.979630995929\n",
      "ISIC_0013341: 140/200\n"
     ]
    },
    {
     "name": "stderr",
     "output_type": "stream",
     "text": [
      "2017-03-30 19:22:56,950 Model restored from file: ../../unet_models/train_hist_4_20/train0_hist/unet_trained/model.cpkt\n"
     ]
    },
    {
     "name": "stdout",
     "output_type": "stream",
     "text": [
      "0.0795967179805 0.669138725264 1.0 0.659392945811\n",
      "ISIC_0013365: 141/200\n"
     ]
    },
    {
     "name": "stderr",
     "output_type": "stream",
     "text": [
      "2017-03-30 19:23:10,851 Model restored from file: ../../unet_models/train_hist_4_20/train0_hist/unet_trained/model.cpkt\n"
     ]
    },
    {
     "name": "stdout",
     "output_type": "stream",
     "text": [
      "0.779806936823 0.977372999382 0.919429213534 0.982905251479\n",
      "ISIC_0013371: 142/200\n"
     ]
    },
    {
     "name": "stderr",
     "output_type": "stream",
     "text": [
      "2017-03-30 19:23:25,168 Model restored from file: ../../unet_models/train_hist_4_20/train0_hist/unet_trained/model.cpkt\n"
     ]
    },
    {
     "name": "stdout",
     "output_type": "stream",
     "text": [
      "0.19188907112 0.936977900176 1.0 0.936020456429\n",
      "ISIC_0013378: 143/200\n"
     ]
    },
    {
     "name": "stderr",
     "output_type": "stream",
     "text": [
      "2017-03-30 19:23:39,295 Model restored from file: ../../unet_models/train_hist_4_20/train0_hist/unet_trained/model.cpkt\n"
     ]
    },
    {
     "name": "stdout",
     "output_type": "stream",
     "text": [
      "0.289902507833 0.97670972953 1.0 0.97648614988\n"
     ]
    },
    {
     "name": "stderr",
     "output_type": "stream",
     "text": [
      "/usr/local/lib/python2.7/dist-packages/skimage/io/_io.py:132: UserWarning: ./out_dir//ISIC_0013378_segmentation.png is a low contrast image\n",
      "  warn('%s is a low contrast image' % fname)\n"
     ]
    },
    {
     "name": "stdout",
     "output_type": "stream",
     "text": [
      "ISIC_0013395: 144/200\n"
     ]
    },
    {
     "name": "stderr",
     "output_type": "stream",
     "text": [
      "2017-03-30 19:23:53,525 Model restored from file: ../../unet_models/train_hist_4_20/train0_hist/unet_trained/model.cpkt\n"
     ]
    },
    {
     "name": "stdout",
     "output_type": "stream",
     "text": [
      "0.225558983676 0.975705244188 1.0 0.975532110801\n"
     ]
    },
    {
     "name": "stderr",
     "output_type": "stream",
     "text": [
      "/usr/local/lib/python2.7/dist-packages/skimage/io/_io.py:132: UserWarning: ./out_dir//ISIC_0013395_segmentation.png is a low contrast image\n",
      "  warn('%s is a low contrast image' % fname)\n"
     ]
    },
    {
     "name": "stdout",
     "output_type": "stream",
     "text": [
      "ISIC_0013397: 145/200\n"
     ]
    },
    {
     "name": "stderr",
     "output_type": "stream",
     "text": [
      "2017-03-30 19:24:07,486 Model restored from file: ../../unet_models/train_hist_4_20/train0_hist/unet_trained/model.cpkt\n"
     ]
    },
    {
     "name": "stdout",
     "output_type": "stream",
     "text": [
      "0.0888516911621 0.920482952163 1.0 0.919861542717\n"
     ]
    },
    {
     "name": "stderr",
     "output_type": "stream",
     "text": [
      "/usr/local/lib/python2.7/dist-packages/skimage/io/_io.py:132: UserWarning: ./out_dir//ISIC_0013397_segmentation.png is a low contrast image\n",
      "  warn('%s is a low contrast image' % fname)\n"
     ]
    },
    {
     "name": "stdout",
     "output_type": "stream",
     "text": [
      "ISIC_0013430: 146/200\n"
     ]
    },
    {
     "name": "stderr",
     "output_type": "stream",
     "text": [
      "2017-03-30 19:24:20,841 Model restored from file: ../../unet_models/train_hist_4_20/train0_hist/unet_trained/model.cpkt\n"
     ]
    },
    {
     "name": "stdout",
     "output_type": "stream",
     "text": [
      "0.654072672512 0.97740911074 0.964984849214 0.977984533131\n",
      "ISIC_0013437: 147/200\n"
     ]
    },
    {
     "name": "stderr",
     "output_type": "stream",
     "text": [
      "2017-03-30 19:24:34,789 Model restored from file: ../../unet_models/train_hist_4_20/train0_hist/unet_trained/model.cpkt\n"
     ]
    },
    {
     "name": "stdout",
     "output_type": "stream",
     "text": [
      "0.617763561259 0.94170087283 0.999638599015 0.935671595751\n",
      "ISIC_0013488: 148/200\n"
     ]
    },
    {
     "name": "stderr",
     "output_type": "stream",
     "text": [
      "2017-03-30 19:24:48,235 Model restored from file: ../../unet_models/train_hist_4_20/train0_hist/unet_trained/model.cpkt\n"
     ]
    },
    {
     "name": "stdout",
     "output_type": "stream",
     "text": [
      "0.230178749 0.946186489529 1.0 0.945306448792\n",
      "ISIC_0013558: 149/200\n"
     ]
    },
    {
     "name": "stderr",
     "output_type": "stream",
     "text": [
      "2017-03-30 19:24:53,712 Model restored from file: ../../unet_models/train_hist_4_20/train0_hist/unet_trained/model.cpkt\n"
     ]
    },
    {
     "name": "stdout",
     "output_type": "stream",
     "text": [
      "0.0388219953956 0.968631981383 1.0 0.968592189107\n"
     ]
    },
    {
     "name": "stderr",
     "output_type": "stream",
     "text": [
      "/usr/local/lib/python2.7/dist-packages/skimage/io/_io.py:132: UserWarning: ./out_dir//ISIC_0013558_segmentation.png is a low contrast image\n",
      "  warn('%s is a low contrast image' % fname)\n"
     ]
    },
    {
     "name": "stdout",
     "output_type": "stream",
     "text": [
      "ISIC_0013572: 150/200\n"
     ]
    },
    {
     "name": "stderr",
     "output_type": "stream",
     "text": [
      "2017-03-30 19:25:01,133 Model restored from file: ../../unet_models/train_hist_4_20/train0_hist/unet_trained/model.cpkt\n"
     ]
    },
    {
     "name": "stdout",
     "output_type": "stream",
     "text": [
      "0.0 0.936180584306 0.0 0.936180584306\n"
     ]
    },
    {
     "name": "stderr",
     "output_type": "stream",
     "text": [
      "/usr/local/lib/python2.7/dist-packages/skimage/io/_io.py:132: UserWarning: ./out_dir//ISIC_0013572_segmentation.png is a low contrast image\n",
      "  warn('%s is a low contrast image' % fname)\n"
     ]
    },
    {
     "name": "stdout",
     "output_type": "stream",
     "text": [
      "ISIC_0013634: 151/200\n"
     ]
    },
    {
     "name": "stderr",
     "output_type": "stream",
     "text": [
      "2017-03-30 19:25:14,179 Model restored from file: ../../unet_models/train_hist_4_20/train0_hist/unet_trained/model.cpkt\n"
     ]
    },
    {
     "name": "stdout",
     "output_type": "stream",
     "text": [
      "0.126704981768 0.851935159394 1.0 0.848684525989\n",
      "ISIC_0013664: 152/200\n"
     ]
    },
    {
     "name": "stderr",
     "output_type": "stream",
     "text": [
      "2017-03-30 19:25:27,165 Model restored from file: ../../unet_models/train_hist_4_20/train0_hist/unet_trained/model.cpkt\n"
     ]
    },
    {
     "name": "stdout",
     "output_type": "stream",
     "text": [
      "0.471162148648 0.961633933344 0.588440274375 0.984649255879\n",
      "ISIC_0013687: 153/200\n"
     ]
    },
    {
     "name": "stderr",
     "output_type": "stream",
     "text": [
      "2017-03-30 19:25:40,244 Model restored from file: ../../unet_models/train_hist_4_20/train0_hist/unet_trained/model.cpkt\n"
     ]
    },
    {
     "name": "stdout",
     "output_type": "stream",
     "text": [
      "0.434595602273 0.991631150266 0.920177858094 0.992134174676\n"
     ]
    },
    {
     "name": "stderr",
     "output_type": "stream",
     "text": [
      "/usr/local/lib/python2.7/dist-packages/skimage/io/_io.py:132: UserWarning: ./out_dir//ISIC_0013687_segmentation.png is a low contrast image\n",
      "  warn('%s is a low contrast image' % fname)\n"
     ]
    },
    {
     "name": "stdout",
     "output_type": "stream",
     "text": [
      "ISIC_0013691: 154/200\n"
     ]
    },
    {
     "name": "stderr",
     "output_type": "stream",
     "text": [
      "2017-03-30 19:25:47,996 Model restored from file: ../../unet_models/train_hist_4_20/train0_hist/unet_trained/model.cpkt\n"
     ]
    },
    {
     "name": "stdout",
     "output_type": "stream",
     "text": [
      "0.136884591077 0.907153257979 1.0 0.905765666821\n",
      "ISIC_0013742: 155/200\n"
     ]
    },
    {
     "name": "stderr",
     "output_type": "stream",
     "text": [
      "2017-03-30 19:25:55,640 Model restored from file: ../../unet_models/train_hist_4_20/train0_hist/unet_trained/model.cpkt\n"
     ]
    },
    {
     "name": "stdout",
     "output_type": "stream",
     "text": [
      "0.0 0.97859254636 0.0 0.97859254636\n"
     ]
    },
    {
     "name": "stderr",
     "output_type": "stream",
     "text": [
      "/usr/local/lib/python2.7/dist-packages/skimage/io/_io.py:132: UserWarning: ./out_dir//ISIC_0013742_segmentation.png is a low contrast image\n",
      "  warn('%s is a low contrast image' % fname)\n"
     ]
    },
    {
     "name": "stdout",
     "output_type": "stream",
     "text": [
      "ISIC_0013765: 156/200\n"
     ]
    },
    {
     "name": "stderr",
     "output_type": "stream",
     "text": [
      "2017-03-30 19:26:06,823 Model restored from file: ../../unet_models/train_hist_4_20/train0_hist/unet_trained/model.cpkt\n"
     ]
    },
    {
     "name": "stdout",
     "output_type": "stream",
     "text": [
      "0.0582079592845 0.589603908346 1.0 0.578923406112\n",
      "ISIC_0013777: 157/200\n"
     ]
    },
    {
     "name": "stderr",
     "output_type": "stream",
     "text": [
      "2017-03-30 19:26:20,127 Model restored from file: ../../unet_models/train_hist_4_20/train0_hist/unet_trained/model.cpkt\n"
     ]
    },
    {
     "name": "stdout",
     "output_type": "stream",
     "text": [
      "0.0750723999385 0.908858206335 1.0 0.908178952065\n"
     ]
    },
    {
     "name": "stderr",
     "output_type": "stream",
     "text": [
      "/usr/local/lib/python2.7/dist-packages/skimage/io/_io.py:132: UserWarning: ./out_dir//ISIC_0013777_segmentation.png is a low contrast image\n",
      "  warn('%s is a low contrast image' % fname)\n"
     ]
    },
    {
     "name": "stdout",
     "output_type": "stream",
     "text": [
      "ISIC_0013807: 158/200\n"
     ]
    },
    {
     "name": "stderr",
     "output_type": "stream",
     "text": [
      "2017-03-30 19:26:33,786 Model restored from file: ../../unet_models/train_hist_4_20/train0_hist/unet_trained/model.cpkt\n"
     ]
    },
    {
     "name": "stdout",
     "output_type": "stream",
     "text": [
      "0.0185447506316 0.759161230583 0.018742902779 0.996573865151\n",
      "ISIC_0013832: 159/200\n"
     ]
    },
    {
     "name": "stderr",
     "output_type": "stream",
     "text": [
      "2017-03-30 19:26:49,604 Model restored from file: ../../unet_models/train_hist_4_20/train0_hist/unet_trained/model.cpkt\n"
     ]
    },
    {
     "name": "stdout",
     "output_type": "stream",
     "text": [
      "0.0 0.727770611702 0.0 0.727770611702\n"
     ]
    },
    {
     "name": "stderr",
     "output_type": "stream",
     "text": [
      "/usr/local/lib/python2.7/dist-packages/skimage/io/_io.py:132: UserWarning: ./out_dir//ISIC_0013832_segmentation.png is a low contrast image\n",
      "  warn('%s is a low contrast image' % fname)\n"
     ]
    },
    {
     "name": "stdout",
     "output_type": "stream",
     "text": [
      "ISIC_0013874: 160/200\n"
     ]
    },
    {
     "name": "stderr",
     "output_type": "stream",
     "text": [
      "2017-03-30 19:26:57,719 Model restored from file: ../../unet_models/train_hist_4_20/train0_hist/unet_trained/model.cpkt\n"
     ]
    },
    {
     "name": "stdout",
     "output_type": "stream",
     "text": [
      "0.677231893522 0.897642231259 1.0 0.869646624866\n",
      "ISIC_0013879: 161/200\n"
     ]
    },
    {
     "name": "stderr",
     "output_type": "stream",
     "text": [
      "2017-03-30 19:27:11,062 Model restored from file: ../../unet_models/train_hist_4_20/train0_hist/unet_trained/model.cpkt\n"
     ]
    },
    {
     "name": "stdout",
     "output_type": "stream",
     "text": [
      "0.115274747925 0.706164167968 0.115274747925 1.0\n",
      "ISIC_0013935: 162/200\n"
     ]
    },
    {
     "name": "stderr",
     "output_type": "stream",
     "text": [
      "2017-03-30 19:27:24,133 Model restored from file: ../../unet_models/train_hist_4_20/train0_hist/unet_trained/model.cpkt\n"
     ]
    },
    {
     "name": "stdout",
     "output_type": "stream",
     "text": [
      "0.489749063994 0.98935370003 0.997011944234 0.989274396692\n",
      "ISIC_0013972: 163/200\n"
     ]
    },
    {
     "name": "stderr",
     "output_type": "stream",
     "text": [
      "2017-03-30 19:27:37,231 Model restored from file: ../../unet_models/train_hist_4_20/train0_hist/unet_trained/model.cpkt\n"
     ]
    },
    {
     "name": "stdout",
     "output_type": "stream",
     "text": [
      "0.0351703987973 0.883807241007 1.0 0.883313012073\n"
     ]
    },
    {
     "name": "stderr",
     "output_type": "stream",
     "text": [
      "/usr/local/lib/python2.7/dist-packages/skimage/io/_io.py:132: UserWarning: ./out_dir//ISIC_0013972_segmentation.png is a low contrast image\n",
      "  warn('%s is a low contrast image' % fname)\n"
     ]
    },
    {
     "name": "stdout",
     "output_type": "stream",
     "text": [
      "ISIC_0013981: 164/200\n"
     ]
    },
    {
     "name": "stderr",
     "output_type": "stream",
     "text": [
      "2017-03-30 19:27:50,401 Model restored from file: ../../unet_models/train_hist_4_20/train0_hist/unet_trained/model.cpkt\n"
     ]
    },
    {
     "name": "stdout",
     "output_type": "stream",
     "text": [
      "0.0 0.928067811399 0.0 0.928067811399\n"
     ]
    },
    {
     "name": "stderr",
     "output_type": "stream",
     "text": [
      "/usr/local/lib/python2.7/dist-packages/skimage/io/_io.py:132: UserWarning: ./out_dir//ISIC_0013981_segmentation.png is a low contrast image\n",
      "  warn('%s is a low contrast image' % fname)\n"
     ]
    },
    {
     "name": "stdout",
     "output_type": "stream",
     "text": [
      "ISIC_0013986: 165/200\n"
     ]
    },
    {
     "name": "stderr",
     "output_type": "stream",
     "text": [
      "2017-03-30 19:28:03,572 Model restored from file: ../../unet_models/train_hist_4_20/train0_hist/unet_trained/model.cpkt\n"
     ]
    },
    {
     "name": "stdout",
     "output_type": "stream",
     "text": [
      "0.0457341889348 0.86105518617 0.97004697564 0.860301819237\n"
     ]
    },
    {
     "name": "stderr",
     "output_type": "stream",
     "text": [
      "/usr/local/lib/python2.7/dist-packages/skimage/io/_io.py:132: UserWarning: ./out_dir//ISIC_0013986_segmentation.png is a low contrast image\n",
      "  warn('%s is a low contrast image' % fname)\n"
     ]
    },
    {
     "name": "stdout",
     "output_type": "stream",
     "text": [
      "ISIC_0014026: 166/200\n"
     ]
    },
    {
     "name": "stderr",
     "output_type": "stream",
     "text": [
      "2017-03-30 19:28:11,416 Model restored from file: ../../unet_models/train_hist_4_20/train0_hist/unet_trained/model.cpkt\n"
     ]
    },
    {
     "name": "stdout",
     "output_type": "stream",
     "text": [
      "0.631014003959 0.985576664824 0.999661496187 0.985220341909\n",
      "ISIC_0014032: 167/200\n"
     ]
    },
    {
     "name": "stderr",
     "output_type": "stream",
     "text": [
      "2017-03-30 19:28:24,626 Model restored from file: ../../unet_models/train_hist_4_20/train0_hist/unet_trained/model.cpkt\n"
     ]
    },
    {
     "name": "stdout",
     "output_type": "stream",
     "text": [
      "0.542254131985 0.979258405349 0.628320214755 0.993540586657\n",
      "ISIC_0014076: 168/200\n"
     ]
    },
    {
     "name": "stderr",
     "output_type": "stream",
     "text": [
      "2017-03-30 19:28:37,633 Model restored from file: ../../unet_models/train_hist_4_20/train0_hist/unet_trained/model.cpkt\n"
     ]
    },
    {
     "name": "stdout",
     "output_type": "stream",
     "text": [
      "0.0 0.360065619497 0.0 0.360065619497\n"
     ]
    },
    {
     "name": "stderr",
     "output_type": "stream",
     "text": [
      "/usr/local/lib/python2.7/dist-packages/skimage/io/_io.py:132: UserWarning: ./out_dir//ISIC_0014076_segmentation.png is a low contrast image\n",
      "  warn('%s is a low contrast image' % fname)\n"
     ]
    },
    {
     "name": "stdout",
     "output_type": "stream",
     "text": [
      "ISIC_0014081: 169/200\n"
     ]
    },
    {
     "name": "stderr",
     "output_type": "stream",
     "text": [
      "2017-03-30 19:28:50,910 Model restored from file: ../../unet_models/train_hist_4_20/train0_hist/unet_trained/model.cpkt\n"
     ]
    },
    {
     "name": "stdout",
     "output_type": "stream",
     "text": [
      "0.539760326012 0.989087409468 0.856404692628 0.99110029531\n",
      "ISIC_0014136: 170/200\n"
     ]
    },
    {
     "name": "stderr",
     "output_type": "stream",
     "text": [
      "2017-03-30 19:29:04,373 Model restored from file: ../../unet_models/train_hist_4_20/train0_hist/unet_trained/model.cpkt\n"
     ]
    },
    {
     "name": "stdout",
     "output_type": "stream",
     "text": [
      "0.684447756992 0.97448417258 0.701826198108 0.997826331419\n",
      "ISIC_0014189: 171/200\n"
     ]
    },
    {
     "name": "stderr",
     "output_type": "stream",
     "text": [
      "2017-03-30 19:29:17,921 Model restored from file: ../../unet_models/train_hist_4_20/train0_hist/unet_trained/model.cpkt\n"
     ]
    },
    {
     "name": "stdout",
     "output_type": "stream",
     "text": [
      "0.0514807478682 0.498751333091 1.0 0.484733402088\n",
      "ISIC_0014264: 172/200\n"
     ]
    },
    {
     "name": "stderr",
     "output_type": "stream",
     "text": [
      "2017-03-30 19:29:31,088 Model restored from file: ../../unet_models/train_hist_4_20/train0_hist/unet_trained/model.cpkt\n"
     ]
    },
    {
     "name": "stdout",
     "output_type": "stream",
     "text": [
      "0.000522991586454 0.824419532429 1.0 0.824403399464\n"
     ]
    },
    {
     "name": "stderr",
     "output_type": "stream",
     "text": [
      "/usr/local/lib/python2.7/dist-packages/skimage/io/_io.py:132: UserWarning: ./out_dir//ISIC_0014264_segmentation.png is a low contrast image\n",
      "  warn('%s is a low contrast image' % fname)\n"
     ]
    },
    {
     "name": "stdout",
     "output_type": "stream",
     "text": [
      "ISIC_0014286: 173/200\n"
     ]
    },
    {
     "name": "stderr",
     "output_type": "stream",
     "text": [
      "2017-03-30 19:29:44,348 Model restored from file: ../../unet_models/train_hist_4_20/train0_hist/unet_trained/model.cpkt\n"
     ]
    },
    {
     "name": "stdout",
     "output_type": "stream",
     "text": [
      "0.474088060075 0.995005004821 0.943110486056 0.995253958435\n"
     ]
    },
    {
     "name": "stderr",
     "output_type": "stream",
     "text": [
      "/usr/local/lib/python2.7/dist-packages/skimage/io/_io.py:132: UserWarning: ./out_dir//ISIC_0014286_segmentation.png is a low contrast image\n",
      "  warn('%s is a low contrast image' % fname)\n"
     ]
    },
    {
     "name": "stdout",
     "output_type": "stream",
     "text": [
      "ISIC_0014289: 174/200\n"
     ]
    },
    {
     "name": "stderr",
     "output_type": "stream",
     "text": [
      "2017-03-30 19:29:57,539 Model restored from file: ../../unet_models/train_hist_4_20/train0_hist/unet_trained/model.cpkt\n"
     ]
    },
    {
     "name": "stdout",
     "output_type": "stream",
     "text": [
      "0.551259259592 0.83650439101 1.0 0.795413748079\n",
      "ISIC_0014325: 175/200\n"
     ]
    },
    {
     "name": "stderr",
     "output_type": "stream",
     "text": [
      "2017-03-30 19:30:10,922 Model restored from file: ../../unet_models/train_hist_4_20/train0_hist/unet_trained/model.cpkt\n"
     ]
    },
    {
     "name": "stdout",
     "output_type": "stream",
     "text": [
      "0.308587883785 0.851875710763 1.0 0.841389977897\n",
      "ISIC_0014341: 176/200\n"
     ]
    },
    {
     "name": "stderr",
     "output_type": "stream",
     "text": [
      "2017-03-30 19:30:24,360 Model restored from file: ../../unet_models/train_hist_4_20/train0_hist/unet_trained/model.cpkt\n"
     ]
    },
    {
     "name": "stdout",
     "output_type": "stream",
     "text": [
      "0.00374318021221 0.523431849923 1.0 0.522576984415\n"
     ]
    },
    {
     "name": "stderr",
     "output_type": "stream",
     "text": [
      "/usr/local/lib/python2.7/dist-packages/skimage/io/_io.py:132: UserWarning: ./out_dir//ISIC_0014341_segmentation.png is a low contrast image\n",
      "  warn('%s is a low contrast image' % fname)\n"
     ]
    },
    {
     "name": "stdout",
     "output_type": "stream",
     "text": [
      "ISIC_0014432: 177/200\n"
     ]
    },
    {
     "name": "stderr",
     "output_type": "stream",
     "text": [
      "2017-03-30 19:30:37,629 Model restored from file: ../../unet_models/train_hist_4_20/train0_hist/unet_trained/model.cpkt\n"
     ]
    },
    {
     "name": "stdout",
     "output_type": "stream",
     "text": [
      "0.259512163967 0.977214469699 0.560289107341 0.983242554039\n",
      "ISIC_0014441: 178/200\n"
     ]
    },
    {
     "name": "stderr",
     "output_type": "stream",
     "text": [
      "2017-03-30 19:30:50,983 Model restored from file: ../../unet_models/train_hist_4_20/train0_hist/unet_trained/model.cpkt\n"
     ]
    },
    {
     "name": "stdout",
     "output_type": "stream",
     "text": [
      "0.171839038728 0.957040175483 1.0 0.956653790082\n"
     ]
    },
    {
     "name": "stderr",
     "output_type": "stream",
     "text": [
      "/usr/local/lib/python2.7/dist-packages/skimage/io/_io.py:132: UserWarning: ./out_dir//ISIC_0014441_segmentation.png is a low contrast image\n",
      "  warn('%s is a low contrast image' % fname)\n"
     ]
    },
    {
     "name": "stdout",
     "output_type": "stream",
     "text": [
      "ISIC_0014501: 179/200\n"
     ]
    },
    {
     "name": "stderr",
     "output_type": "stream",
     "text": [
      "2017-03-30 19:31:04,501 Model restored from file: ../../unet_models/train_hist_4_20/train0_hist/unet_trained/model.cpkt\n"
     ]
    },
    {
     "name": "stdout",
     "output_type": "stream",
     "text": [
      "0.82930653169 0.976900685739 0.911549428046 0.986076174548\n",
      "ISIC_0014537: 180/200\n"
     ]
    },
    {
     "name": "stderr",
     "output_type": "stream",
     "text": [
      "2017-03-30 19:31:17,896 Model restored from file: ../../unet_models/train_hist_4_20/train0_hist/unet_trained/model.cpkt\n"
     ]
    },
    {
     "name": "stdout",
     "output_type": "stream",
     "text": [
      "0.0 0.781342612124 0.0 0.781342612124\n"
     ]
    },
    {
     "name": "stderr",
     "output_type": "stream",
     "text": [
      "/usr/local/lib/python2.7/dist-packages/skimage/io/_io.py:132: UserWarning: ./out_dir//ISIC_0014537_segmentation.png is a low contrast image\n",
      "  warn('%s is a low contrast image' % fname)\n"
     ]
    },
    {
     "name": "stdout",
     "output_type": "stream",
     "text": [
      "ISIC_0014582: 181/200\n"
     ]
    },
    {
     "name": "stderr",
     "output_type": "stream",
     "text": [
      "2017-03-30 19:31:31,432 Model restored from file: ../../unet_models/train_hist_4_20/train0_hist/unet_trained/model.cpkt\n"
     ]
    },
    {
     "name": "stdout",
     "output_type": "stream",
     "text": [
      "0.0 0.779810414754 0.0 0.779810414754\n"
     ]
    },
    {
     "name": "stderr",
     "output_type": "stream",
     "text": [
      "/usr/local/lib/python2.7/dist-packages/skimage/io/_io.py:132: UserWarning: ./out_dir//ISIC_0014582_segmentation.png is a low contrast image\n",
      "  warn('%s is a low contrast image' % fname)\n"
     ]
    },
    {
     "name": "stdout",
     "output_type": "stream",
     "text": [
      "ISIC_0014589: 182/200\n"
     ]
    },
    {
     "name": "stderr",
     "output_type": "stream",
     "text": [
      "2017-03-30 19:31:38,652 Model restored from file: ../../unet_models/train_hist_4_20/train0_hist/unet_trained/model.cpkt\n"
     ]
    },
    {
     "name": "stdout",
     "output_type": "stream",
     "text": [
      "0.146959565027 0.978239624783 1.0 0.978157742084\n"
     ]
    },
    {
     "name": "stderr",
     "output_type": "stream",
     "text": [
      "/usr/local/lib/python2.7/dist-packages/skimage/io/_io.py:132: UserWarning: ./out_dir//ISIC_0014589_segmentation.png is a low contrast image\n",
      "  warn('%s is a low contrast image' % fname)\n"
     ]
    },
    {
     "name": "stdout",
     "output_type": "stream",
     "text": [
      "ISIC_0014595: 183/200\n"
     ]
    },
    {
     "name": "stderr",
     "output_type": "stream",
     "text": [
      "2017-03-30 19:31:45,938 Model restored from file: ../../unet_models/train_hist_4_20/train0_hist/unet_trained/model.cpkt\n"
     ]
    },
    {
     "name": "stdout",
     "output_type": "stream",
     "text": [
      "0.00222779472773 0.926813710017 1.0 0.926801748832\n",
      "ISIC_0014596: 184/200"
     ]
    },
    {
     "name": "stderr",
     "output_type": "stream",
     "text": [
      "/usr/local/lib/python2.7/dist-packages/skimage/io/_io.py:132: UserWarning: ./out_dir//ISIC_0014595_segmentation.png is a low contrast image\n",
      "  warn('%s is a low contrast image' % fname)\n"
     ]
    },
    {
     "name": "stdout",
     "output_type": "stream",
     "text": [
      "\n"
     ]
    },
    {
     "name": "stderr",
     "output_type": "stream",
     "text": [
      "2017-03-30 19:31:53,230 Model restored from file: ../../unet_models/train_hist_4_20/train0_hist/unet_trained/model.cpkt\n"
     ]
    },
    {
     "name": "stdout",
     "output_type": "stream",
     "text": [
      "0.0512749690649 0.982887787279 1.0 0.982871946402\n",
      "ISIC_0014606: 185/200\n"
     ]
    },
    {
     "name": "stderr",
     "output_type": "stream",
     "text": [
      "/usr/local/lib/python2.7/dist-packages/skimage/io/_io.py:132: UserWarning: ./out_dir//ISIC_0014596_segmentation.png is a low contrast image\n",
      "  warn('%s is a low contrast image' % fname)\n",
      "2017-03-30 19:32:00,117 Model restored from file: ../../unet_models/train_hist_4_20/train0_hist/unet_trained/model.cpkt\n"
     ]
    },
    {
     "name": "stdout",
     "output_type": "stream",
     "text": [
      "0.0 0.5589783568 0.0 0.5589783568\n",
      "ISIC_0014625: 186/200\n"
     ]
    },
    {
     "name": "stderr",
     "output_type": "stream",
     "text": [
      "/usr/local/lib/python2.7/dist-packages/skimage/io/_io.py:132: UserWarning: ./out_dir//ISIC_0014606_segmentation.png is a low contrast image\n",
      "  warn('%s is a low contrast image' % fname)\n",
      "2017-03-30 19:32:06,952 Model restored from file: ../../unet_models/train_hist_4_20/train0_hist/unet_trained/model.cpkt\n"
     ]
    },
    {
     "name": "stdout",
     "output_type": "stream",
     "text": [
      "0.00210183479399 0.778607372653 1.0 0.778504086709\n",
      "ISIC_0014642: 187/200\n"
     ]
    },
    {
     "name": "stderr",
     "output_type": "stream",
     "text": [
      "/usr/local/lib/python2.7/dist-packages/skimage/io/_io.py:132: UserWarning: ./out_dir//ISIC_0014625_segmentation.png is a low contrast image\n",
      "  warn('%s is a low contrast image' % fname)\n",
      "2017-03-30 19:32:13,791 Model restored from file: ../../unet_models/train_hist_4_20/train0_hist/unet_trained/model.cpkt\n"
     ]
    },
    {
     "name": "stdout",
     "output_type": "stream",
     "text": [
      "0.0 0.908792789001 0.0 0.908792789001\n"
     ]
    },
    {
     "name": "stderr",
     "output_type": "stream",
     "text": [
      "/usr/local/lib/python2.7/dist-packages/skimage/io/_io.py:132: UserWarning: ./out_dir//ISIC_0014642_segmentation.png is a low contrast image\n",
      "  warn('%s is a low contrast image' % fname)\n"
     ]
    },
    {
     "name": "stdout",
     "output_type": "stream",
     "text": [
      "ISIC_0014646: 188/200\n"
     ]
    },
    {
     "name": "stderr",
     "output_type": "stream",
     "text": [
      "2017-03-30 19:32:21,001 Model restored from file: ../../unet_models/train_hist_4_20/train0_hist/unet_trained/model.cpkt\n"
     ]
    },
    {
     "name": "stdout",
     "output_type": "stream",
     "text": [
      "0.0 0.94512338505 0.0 0.94512338505\n",
      "ISIC_0014661: 189/200\n"
     ]
    },
    {
     "name": "stderr",
     "output_type": "stream",
     "text": [
      "/usr/local/lib/python2.7/dist-packages/skimage/io/_io.py:132: UserWarning: ./out_dir//ISIC_0014646_segmentation.png is a low contrast image\n",
      "  warn('%s is a low contrast image' % fname)\n",
      "2017-03-30 19:32:27,887 Model restored from file: ../../unet_models/train_hist_4_20/train0_hist/unet_trained/model.cpkt\n"
     ]
    },
    {
     "name": "stdout",
     "output_type": "stream",
     "text": [
      "0.884134881899 0.980334950682 0.972077192823 0.981842395258\n",
      "ISIC_0014723: 190/200\n"
     ]
    },
    {
     "name": "stderr",
     "output_type": "stream",
     "text": [
      "2017-03-30 19:33:00,524 Model restored from file: ../../unet_models/train_hist_4_20/train0_hist/unet_trained/model.cpkt\n"
     ]
    },
    {
     "name": "stdout",
     "output_type": "stream",
     "text": [
      "0.729811746484 0.887316209588 0.999657490352 0.838136888027\n",
      "ISIC_0014804: 191/200\n"
     ]
    },
    {
     "name": "stderr",
     "output_type": "stream",
     "text": [
      "2017-03-30 19:33:28,252 Model restored from file: ../../unet_models/train_hist_4_20/train0_hist/unet_trained/model.cpkt\n"
     ]
    },
    {
     "name": "stdout",
     "output_type": "stream",
     "text": [
      "0.393742934151 0.864342020913 1.0 0.851235063634\n",
      "ISIC_0014806: 192/200\n"
     ]
    },
    {
     "name": "stderr",
     "output_type": "stream",
     "text": [
      "2017-03-30 19:33:55,140 Model restored from file: ../../unet_models/train_hist_4_20/train0_hist/unet_trained/model.cpkt\n"
     ]
    },
    {
     "name": "stdout",
     "output_type": "stream",
     "text": [
      "0.498962327685 0.896980939381 1.0 0.885203719658\n",
      "ISIC_0014831: 193/200\n"
     ]
    },
    {
     "name": "stderr",
     "output_type": "stream",
     "text": [
      "2017-03-30 19:34:19,643 Model restored from file: ../../unet_models/train_hist_4_20/train0_hist/unet_trained/model.cpkt\n"
     ]
    },
    {
     "name": "stdout",
     "output_type": "stream",
     "text": [
      "0.438498525434 0.794867366723 1.0 0.755737454907\n",
      "ISIC_0014855: 194/200\n"
     ]
    },
    {
     "name": "stderr",
     "output_type": "stream",
     "text": [
      "2017-03-30 19:34:44,392 Model restored from file: ../../unet_models/train_hist_4_20/train0_hist/unet_trained/model.cpkt\n"
     ]
    },
    {
     "name": "stdout",
     "output_type": "stream",
     "text": [
      "0.413987618731 0.859975604603 1.0 0.844603807615\n",
      "ISIC_0014903: 195/200\n"
     ]
    },
    {
     "name": "stderr",
     "output_type": "stream",
     "text": [
      "2017-03-30 19:35:09,176 Model restored from file: ../../unet_models/train_hist_4_20/train0_hist/unet_trained/model.cpkt\n"
     ]
    },
    {
     "name": "stdout",
     "output_type": "stream",
     "text": [
      "0.753540944857 0.95203663194 0.99923355462 0.943918675715\n",
      "ISIC_0014923: 196/200\n"
     ]
    },
    {
     "name": "stderr",
     "output_type": "stream",
     "text": [
      "2017-03-30 19:35:35,156 Model restored from file: ../../unet_models/train_hist_4_20/train0_hist/unet_trained/model.cpkt\n"
     ]
    },
    {
     "name": "stdout",
     "output_type": "stream",
     "text": [
      "0.549164503855 0.96287744507 1.0 0.961119293291\n",
      "ISIC_0015109: 197/200\n"
     ]
    },
    {
     "name": "stderr",
     "output_type": "stream",
     "text": [
      "2017-03-30 19:36:00,371 Model restored from file: ../../unet_models/train_hist_4_20/train0_hist/unet_trained/model.cpkt\n"
     ]
    },
    {
     "name": "stdout",
     "output_type": "stream",
     "text": [
      "0.621531875565 0.869431642431 1.0 0.833792979308\n",
      "ISIC_0015110: 198/200\n"
     ]
    },
    {
     "name": "stderr",
     "output_type": "stream",
     "text": [
      "2017-03-30 19:36:25,336 Model restored from file: ../../unet_models/train_hist_4_20/train0_hist/unet_trained/model.cpkt\n"
     ]
    },
    {
     "name": "stdout",
     "output_type": "stream",
     "text": [
      "0.768196681881 0.934643209669 0.905666967347 0.943751134268\n",
      "ISIC_0015200: 199/200\n"
     ]
    },
    {
     "name": "stderr",
     "output_type": "stream",
     "text": [
      "2017-03-30 19:36:50,215 Model restored from file: ../../unet_models/train_hist_4_20/train0_hist/unet_trained/model.cpkt\n"
     ]
    },
    {
     "name": "stdout",
     "output_type": "stream",
     "text": [
      "0.113125331057 0.377335796485 1.0 0.323614592001\n",
      "writing jaccard score csv...\n",
      "\n",
      "Average Scores: ['Average Score', 0.33474690998415119, 0.87234119929855192, 0.84015698824894802, 0.84015698824894802]\n",
      "\n",
      "Done!\n",
      "\n"
     ]
    }
   ],
   "source": [
    "import glob, re, os, warnings\n",
    "import csv\n",
    "from sklearn.metrics import jaccard_similarity_score, accuracy_score, precision_score\n",
    "from skimage.io import imsave, imread\n",
    "from skimage.transform import rescale\n",
    "    \n",
    "start_at = 0\n",
    "end_at = 200\n",
    "test_imgs = '../../train_test_data/test0/*[_img].tif'\n",
    "train_dir = '../../ISIC-2017_Training_Part1_GroundTruth'\n",
    "out_dir = './out_dir/'\n",
    "prediction_model = \"../../unet_models/train_4_20/train0_4_20_adam/unet_trained/model.cpkt\"\n",
    "out_size = 256\n",
    "\n",
    "if not os.path.exists(out_dir):\n",
    "    os.makedirs(out_dir)\n",
    "\n",
    "img_scores = []\n",
    "\n",
    "num_processed = 0\n",
    "files_list = sorted(glob.glob(test_imgs))\n",
    "for file_name in files_list:\n",
    "    if num_processed < start_at:\n",
    "        num_processed += 1\n",
    "        continue\n",
    "        \n",
    "    if num_processed > end_at:\n",
    "        break\n",
    " \n",
    "    img_name = re.match(r'.*/(ISIC_\\d+)\\_img.tif', file_name).group(1)\n",
    "    print (\"%s: %d/%d\" % (img_name, num_processed, len(files_list)))\n",
    "    \n",
    "    img = imread(file_name)/255\n",
    "    input_img = np.array([img])\n",
    "    prediction = net.predict(prediction_model, input_img)\n",
    "    prediction = prediction[0,...,1] > 0.5\n",
    "    ground_truth = imread('%s/%s_segmentation.png' % (train_dir, img_name))/255\n",
    "    \n",
    "    offset = (prediction.shape[0] - out_size) // 2\n",
    "    prediction[offset:-offset,offset:-offset]\n",
    "    \n",
    "    scale = np.max(ground_truth.shape)/out_size\n",
    "    out_im = rescale(prediction, scale, order=0)\n",
    "    out_im = out_im[0:ground_truth.shape[0], 0:ground_truth.shape[1]]\n",
    "    \n",
    "    ground_truth_flatten = np.expand_dims(ground_truth.flatten().astype(bool),axis=0)\n",
    "    out_im_flatten = np.expand_dims(out_im.flatten().astype(bool), axis=0)\n",
    "    jaccard_idx = jaccard_similarity_score(ground_truth_flatten, out_im_flatten)\n",
    "    accuracy_idx = accuracy_score(ground_truth.flatten(), out_im.flatten())\n",
    "    precision_idx = precision_score(ground_truth.flatten(), out_im.flatten())\n",
    "    specivity_idx = precision_score(1 - ground_truth.flatten(), 1 - out_im.flatten())\n",
    "    print(jaccard_idx, accuracy_idx, precision_idx, specivity_idx)\n",
    "    img_scores.append((img_name, jaccard_idx, accuracy_idx, precision_idx, specivity_idx))\n",
    "    \n",
    "    imsave(('%s/%s_segmentation.png' % (out_dir, img_name)), out_im)\n",
    "    \n",
    "    num_processed += 1\n",
    "\n",
    "print('writing jaccard score csv...\\n')\n",
    "with open('%s/jaccard.csv' % (out_dir), 'wb') as csv_file:\n",
    "    writer = csv.writer(csv_file)\n",
    "    writer.writerow(['Image_Name', 'Jaccard', 'Accuracy', 'Precision', 'Specificity'])\n",
    "    for value in img_scores:\n",
    "       writer.writerow(value)\n",
    "    \n",
    "    avg_jaccard = sum(score[1] for score in img_scores)/float(len(img_scores))\n",
    "    avg_accuracy = sum(score[2] for score in img_scores)/float(len(img_scores))\n",
    "    avg_precision = sum(score[3] for score in img_scores)/float(len(img_scores))\n",
    "    avg_specificity = sum(score[3] for score in img_scores)/float(len(img_scores))\n",
    "    avg_scores = ['Average Score', avg_jaccard, avg_accuracy, avg_precision, avg_specificity]\n",
    "    print(\"Average Scores: %r\\n\" % avg_scores)\n",
    "    writer.writerow(avg_scores)\n",
    "    \n",
    "print('Done!\\n')"
   ]
  }
 ],
 "metadata": {
  "kernelspec": {
   "display_name": "Python 2",
   "language": "python",
   "name": "python2"
  },
  "language_info": {
   "codemirror_mode": {
    "name": "ipython",
    "version": 2
   },
   "file_extension": ".py",
   "mimetype": "text/x-python",
   "name": "python",
   "nbconvert_exporter": "python",
   "pygments_lexer": "ipython2",
   "version": "2.7.12"
  }
 },
 "nbformat": 4,
 "nbformat_minor": 2
}
