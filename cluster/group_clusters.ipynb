{
 "cells": [
  {
   "cell_type": "code",
   "execution_count": null,
   "metadata": {
    "collapsed": true,
    "deletable": true,
    "editable": true
   },
   "outputs": [],
   "source": []
  },
  {
   "cell_type": "code",
   "execution_count": 36,
   "metadata": {
    "collapsed": false,
    "deletable": true,
    "editable": true
   },
   "outputs": [],
   "source": [
    "from skimage.transform import rescale\n",
    "from skimage.io import imread, imshow\n",
    "import matplotlib.pyplot as plt\n",
    "from PIL import Image\n",
    "from sklearn.cluster import KMeans\n",
    "import pandas as pd\n",
    "import numpy as np\n",
    "\n",
    "%matplotlib inline\n",
    "\n",
    "def group_clusters(img_name):\n",
    "\n",
    "    cluster_im = Image.open('../../cmeans_noblock/ISIC_' + img_name + '_visual.gif')#\n",
    "    original_im = Image.open('../../ISIC-2017_Training_Data/ISIC_' + img_name + '.jpg')\n",
    "    rgb_cluster_im = cluster_im.convert('RGB')\n",
    "    rgb_original_im = original_im.convert('RGB')\n",
    "\n",
    "    scale_factor = float(cluster_im.size[0]) / float(original_im.size[0])\n",
    "\n",
    "    clusters = {}\n",
    "\n",
    "    #collect pixel values for each cluster\n",
    "    width, height = cluster_im.size\n",
    "    for y in range(height):\n",
    "        for x in range(width):\n",
    "            r, g, b = rgb_cluster_im.getpixel((x, y))\n",
    "            cluster_id = str(r) + '-' + str(g) + '-' + str(b)\n",
    "\n",
    "            original_rgb = rgb_original_im.getpixel((x/scale_factor, y/scale_factor)) #.3258 to deal with scale difference\n",
    "\n",
    "            if cluster_id in clusters:\n",
    "                clusters[cluster_id].append(original_rgb)\n",
    "            else:\n",
    "                clusters[cluster_id] = [original_rgb]\n",
    "\n",
    "    cluster_averages = {}\n",
    "\n",
    "    #get average colour of clusters\n",
    "    for cluster_id in clusters:\n",
    "        r, g, b = 0, 0, 0\n",
    "        count = 0\n",
    "        for pixel in clusters[cluster_id]:\n",
    "            r += pixel[0]\n",
    "            g += pixel[1]\n",
    "            b += pixel[2]\n",
    "            count += 1\n",
    "        cluster_averages[cluster_id] = ((r/count), (g/count), (b/count))\n",
    "\n",
    "    #Create Data for clustering\n",
    "    list_of_pixels = []\n",
    "    list_of_ids = {}\n",
    "    counter = 0\n",
    "    for cluster_id in cluster_averages:\n",
    "        list_of_ids[cluster_id] = counter\n",
    "        counter += 1\n",
    "        list_of_pixels.append(list(cluster_averages[cluster_id]))\n",
    "\n",
    "    cvecs = np.array(list_of_pixels)\n",
    "\n",
    "    #Cluster using k-means\n",
    "    kmns = KMeans(n_clusters=2, random_state=1729)\n",
    "    kmns.fit(cvecs)\n",
    "    \n",
    "    #Find darker of centroids\n",
    "    cluster1 = kmns.cluster_centers_[0]\n",
    "    cluster2 = kmns.cluster_centers_[1]\n",
    "    \n",
    "    avg1 = (cluster1[0] + cluster1[1] + cluster1[2])/3\n",
    "    avg2 = (cluster2[0] + cluster2[1] + cluster2[2])/3\n",
    "\n",
    "    #Generate output using clustered labels\n",
    "\n",
    "    output = Image.new( 'RGB', (width,height), \"black\") # create a new black image\n",
    "    output_pixels = output.load() # create the pixel map\n",
    "\n",
    "    width, height = cluster_im.size\n",
    "    for y in range(height):\n",
    "        for x in range(width):\n",
    "            r, g, b = rgb_cluster_im.getpixel((x, y))\n",
    "            cluster_id = str(r) + '-' + str(g) + '-' + str(b)\n",
    "            index = list_of_ids[cluster_id]\n",
    "            if kmns.labels_[index] and avg2 < avg1:\n",
    "                output_pixels[x,y] = (255, 255, 255) # set the colour accordingly\n",
    "            elif not kmns.labels_[index] and avg1 < avg2:\n",
    "                output_pixels[x,y] = (255, 255, 255)\n",
    "\n",
    "    plt.imshow(output)\n",
    "    output.save(\"./grouped_clusters/\" + img_name + \".png\")"
   ]
  },
  {
   "cell_type": "code",
   "execution_count": 37,
   "metadata": {
    "collapsed": false,
    "deletable": true,
    "editable": true
   },
   "outputs": [
    {
     "data": {
      "image/png": "[encoded data removed]",
      "text/plain": [
       "<matplotlib.figure.Figure at 0x10c2bac90>"
      ]
     },
     "metadata": {},
     "output_type": "display_data"
    }
   ],
   "source": [
    "#for photo_number in range(0, 15295):    \n",
    "for photo_number in range(0, 45):    \n",
    "    try:\n",
    "        id = str(photo_number)\n",
    "        new_id = ''\n",
    "\n",
    "        num_digits = len(id)\n",
    "\n",
    "        if num_digits < 7:\n",
    "            difference = 7 - num_digits\n",
    "\n",
    "            for digit in range(0, difference):\n",
    "                new_id = new_id + '0'\n",
    "            id = new_id + id\n",
    "\n",
    "        result = group_clusters(id)\n",
    "        \n",
    "    except IOError:\n",
    "        continue\n",
    "\n",
    "\n",
    "\n",
    "\n",
    "\n"
   ]
  },
  {
   "cell_type": "code",
   "execution_count": null,
   "metadata": {
    "collapsed": true,
    "deletable": true,
    "editable": true
   },
   "outputs": [],
   "source": [
    "from sklearn.metrics import jaccard_similarity_score\n",
    "\n",
    "jaccard_similarity_score(y_true, y_pred, normalize=False)"
   ]
  },
  {
   "cell_type": "code",
   "execution_count": null,
   "metadata": {
    "collapsed": true,
    "deletable": true,
    "editable": true
   },
   "outputs": [],
   "source": []
  }
 ],
 "metadata": {
  "kernelspec": {
   "display_name": "Python 2",
   "language": "python",
   "name": "python2"
  },
  "language_info": {
   "codemirror_mode": {
    "name": "ipython",
    "version": 2
   },
   "file_extension": ".py",
   "mimetype": "text/x-python",
   "name": "python",
   "nbconvert_exporter": "python",
   "pygments_lexer": "ipython2",
   "version": "2.7.10"
  }
 },
 "nbformat": 4,
 "nbformat_minor": 2
}
