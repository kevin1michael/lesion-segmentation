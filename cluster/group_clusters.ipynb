{
 "cells": [
  {
   "cell_type": "code",
   "execution_count": null,
   "metadata": {
    "collapsed": true,
    "deletable": true,
    "editable": true
   },
   "outputs": [],
   "source": []
  },
  {
   "cell_type": "code",
   "execution_count": 93,
   "metadata": {
    "collapsed": false,
    "deletable": true,
    "editable": true
   },
   "outputs": [
    {
     "name": "stdout",
     "output_type": "stream",
     "text": [
      "[0 1 0 0 0 0 0 1 0 1 1 1 1 1 1 1 0 0 1 1 0 0 1 0 1 1 0 0 1 1 0]\n",
      "####\n",
      "0\n",
      "1\n"
     ]
    },
    {
     "data": {
      "text/plain": [
       "<matplotlib.image.AxesImage at 0x118e9d910>"
      ]
     },
     "execution_count": 93,
     "metadata": {},
     "output_type": "execute_result"
    },
    {
     "data": {
      "image/png": "[encoded data removed]",
      "text/plain": [
       "<matplotlib.figure.Figure at 0x1184b6b10>"
      ]
     },
     "metadata": {},
     "output_type": "display_data"
    }
   ],
   "source": [
    "from skimage.transform import rescale\n",
    "from skimage.io import imread, imshow\n",
    "import matplotlib.pyplot as plt\n",
    "from PIL import Image\n",
    "from sklearn.cluster import KMeans\n",
    "import pandas as pd\n",
    "import numpy as np\n",
    "\n",
    "%matplotlib inline\n",
    "\n",
    "cluster_im = Image.open('../../cmean_out/ISIC_0000000_visual.png')\n",
    "original_im = Image.open('../../ISIC-2017_Training_Data/ISIC_0000000.jpg')\n",
    "rgb_cluster_im = cluster_im.convert('RGB')\n",
    "rgb_original_im = original_im.convert('RGB')\n",
    "\n",
    "scale_factor = float(cluster_im.size[0]) / float(original_im.size[0])\n",
    "\n",
    "clusters = {}\n",
    "\n",
    "#collect pixel values for each cluster\n",
    "width, height = cluster_im.size\n",
    "for y in range(height):\n",
    "    for x in range(width):\n",
    "        r, g, b = rgb_cluster_im.getpixel((x, y))\n",
    "        cluster_id = str(r) + '-' + str(g) + '-' + str(b)\n",
    "        \n",
    "        original_rgb = rgb_original_im.getpixel((x/scale_factor, y/scale_factor)) #.3258 to deal with scale difference\n",
    "        \n",
    "        if cluster_id in clusters:\n",
    "            clusters[cluster_id].append(original_rgb)\n",
    "        else:\n",
    "            clusters[cluster_id] = [original_rgb]\n",
    "            \n",
    "cluster_averages = {}\n",
    "            \n",
    "#get average colour of clusters\n",
    "for cluster_id in clusters:\n",
    "    r, g, b = 0, 0, 0\n",
    "    count = 0\n",
    "    for pixel in clusters[cluster_id]:\n",
    "        r += pixel[0]\n",
    "        g += pixel[1]\n",
    "        b += pixel[2]\n",
    "        count += 1\n",
    "    cluster_averages[cluster_id] = ((r/count), (g/count), (b/count))\n",
    "\n",
    "#Create Data for clustering\n",
    "list_of_pixels = []\n",
    "list_of_ids = {}\n",
    "counter = 0\n",
    "for cluster_id in cluster_averages:\n",
    "    list_of_ids[cluster_id] = counter\n",
    "    counter += 1\n",
    "    list_of_pixels.append(list(cluster_averages[cluster_id]))\n",
    "\n",
    "cvecs = np.array(list_of_pixels)\n",
    "\n",
    "#Cluster using k-means\n",
    "kmns = KMeans(n_clusters=2, random_state=1729)\n",
    "kmns.fit(cvecs)\n",
    "\n",
    "# print list_of_ids\n",
    "\n",
    "#Generate output using clustered labels\n",
    "# for label in kmns.labels_:\n",
    "#     print label\n",
    "print  kmns.labels_\n",
    "print '####'\n",
    "print kmns.labels_[0]\n",
    "print kmns.labels_[1]\n",
    "    \n",
    "output = Image.new( 'RGB', (width,height), \"black\") # create a new black image\n",
    "output_pixels = output.load() # create the pixel map\n",
    "\n",
    "width, height = cluster_im.size\n",
    "for y in range(height):\n",
    "    for x in range(width):\n",
    "        r, g, b = rgb_cluster_im.getpixel((x, y))\n",
    "        cluster_id = str(r) + '-' + str(g) + '-' + str(b)\n",
    "        index = list_of_ids[cluster_id]\n",
    "        if kmns.labels_[index]:\n",
    "            output_pixels[x,y] = (255, 255, 255) # set the colour accordingly\n",
    "\n",
    "plt.imshow(output)"
   ]
  },
  {
   "cell_type": "code",
   "execution_count": null,
   "metadata": {
    "collapsed": true
   },
   "outputs": [],
   "source": [
    "\n",
    "\n",
    "\n",
    "\n",
    "\n"
   ]
  },
  {
   "cell_type": "code",
   "execution_count": null,
   "metadata": {
    "collapsed": true
   },
   "outputs": [],
   "source": []
  }
 ],
 "metadata": {
  "kernelspec": {
   "display_name": "Python 2",
   "language": "python",
   "name": "python2"
  },
  "language_info": {
   "codemirror_mode": {
    "name": "ipython",
    "version": 2
   },
   "file_extension": ".py",
   "mimetype": "text/x-python",
   "name": "python",
   "nbconvert_exporter": "python",
   "pygments_lexer": "ipython2",
   "version": "2.7.10"
  }
 },
 "nbformat": 4,
 "nbformat_minor": 2
}
