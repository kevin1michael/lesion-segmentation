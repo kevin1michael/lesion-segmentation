{
 "cells": [
  {
   "cell_type": "code",
   "execution_count": null,
   "metadata": {
    "collapsed": true,
    "deletable": true,
    "editable": true
   },
   "outputs": [],
   "source": []
  },
  {
   "cell_type": "code",
   "execution_count": 36,
   "metadata": {
    "collapsed": false,
    "deletable": true,
    "editable": true
   },
   "outputs": [
    {
     "name": "stdout",
     "output_type": "stream",
     "text": [
      "{'249-167-54': (169, 209, 249), '49-35-253': (169, 206, 244), '246-17-61': (160, 192, 224), '179-48-251': (145, 154, 170), '246-38-199': (173, 210, 246), '80-23-243': (176, 216, 252), '244-15-104': (155, 175, 196), '50-255-35': (172, 213, 252), '31-255-146': (170, 209, 247), '88-254-30': (170, 206, 244), '43-111-252': (174, 211, 250), '250-204-44': (173, 210, 248), '143-58-247': (165, 199, 233), '253-245-28': (172, 208, 245), '126-251-22': (170, 210, 247), '219-252-47': (162, 196, 230), '252-15-153': (176, 217, 252), '213-3-254': (173, 211, 250), '34-186-248': (168, 204, 240), '42-254-69': (166, 202, 236), '255-88-48': (170, 207, 245), '25-248-97': (157, 183, 213), '20-141-254': (165, 199, 236), '166-253-8': (160, 198, 238), '19-226-248': (172, 211, 249), '6-37-251': (172, 212, 250), '44-244-186': (175, 213, 249), '12-251-228': (167, 203, 241), '244-12-237': (173, 212, 250), '246-42-42': (161, 189, 218), '246-104-15': (175, 213, 251)}\n"
     ]
    }
   ],
   "source": [
    "from skimage.transform import rescale\n",
    "from skimage.io import imread, imshow\n",
    "import matplotlib.pyplot as plt\n",
    "from PIL import Image\n",
    "\n",
    "%matplotlib inline\n",
    "\n",
    "# image = Image.open('../../cmean_out/ISIC_0000000_visual.jpg').load()\n",
    "# img = imread('../../cmean_out/ISIC_0000000_visual.jpg')\n",
    "# plt.imshow(img)\n",
    "\n",
    "# def get_average_color((x,y), n, image):\n",
    "#     \"\"\" Returns a 3-tuple containing the RGB value of the average color of the\n",
    "#     given square bounded area of length = n whose origin (top left corner) \n",
    "#     is (x, y) in the given image\"\"\"\n",
    " \n",
    "#     r, g, b = 0, 0, 0\n",
    "#     count = 0\n",
    "#     for s in range(x, x+n+1):\n",
    "#         for t in range(y, y+n+1):\n",
    "#             pixlr, pixlg, pixlb = image[s, t]\n",
    "#             r += pixlr\n",
    "#             g += pixlg\n",
    "#             b += pixlb\n",
    "#             count += 1\n",
    "#     return ((r/count), (g/count), (b/count))\n",
    " \n",
    "# image = Image.open('../../cmean_out/ISIC_0000000_visual.jpg').load()\n",
    "# r, g, b = get_average_color((0,0), 50, image)\n",
    "# print r,g,b\n",
    "\n",
    "cluster_im = Image.open('../../cmean_out/ISIC_0000000_visual.jpg')\n",
    "original_im = Image.open('../../ISIC-2017_Training_Data/ISIC_0000000.jpg')\n",
    "rgb_cluster_im = cluster_im.convert('RGB')\n",
    "rgb_original_im = original_im.convert('RGB')\n",
    "\n",
    "clusters = {}\n",
    "\n",
    "#collect pixel values for each cluster\n",
    "width, height = cluster_im.size\n",
    "for y in range(height):\n",
    "    for x in range(width):\n",
    "        r, g, b = rgb_cluster_im.getpixel((x, y))\n",
    "        cluster_id = str(r) + '-' + str(g) + '-' + str(b)\n",
    "        \n",
    "        original_rgb = rgb_original_im.getpixel((x, y))\n",
    "        \n",
    "        if cluster_id in clusters:\n",
    "            clusters[cluster_id].append(original_rgb)\n",
    "        else:\n",
    "            clusters[cluster_id] = [original_rgb]\n",
    "\n",
    "cluster_averages = {}\n",
    "            \n",
    "#get average colour of clusters\n",
    "for cluster_id in clusters:\n",
    "    r, g, b = 0, 0, 0\n",
    "    count = 0\n",
    "    for pixel in clusters[cluster_id]:\n",
    "        r += pixel[0]\n",
    "        g += pixel[1]\n",
    "        b += pixel[2]\n",
    "        count += 1\n",
    "    cluster_averages[cluster_id] = ((r/count), (g/count), (b/count))\n",
    "        \n",
    "print cluster_averages"
   ]
  },
  {
   "cell_type": "code",
   "execution_count": null,
   "metadata": {
    "collapsed": true
   },
   "outputs": [],
   "source": []
  }
 ],
 "metadata": {
  "kernelspec": {
   "display_name": "Python 2",
   "language": "python",
   "name": "python2"
  },
  "language_info": {
   "codemirror_mode": {
    "name": "ipython",
    "version": 2
   },
   "file_extension": ".py",
   "mimetype": "text/x-python",
   "name": "python",
   "nbconvert_exporter": "python",
   "pygments_lexer": "ipython2",
   "version": "2.7.10"
  }
 },
 "nbformat": 4,
 "nbformat_minor": 2
}
