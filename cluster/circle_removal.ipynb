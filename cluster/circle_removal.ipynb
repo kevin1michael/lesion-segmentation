{
 "cells": [
  {
   "cell_type": "code",
   "execution_count": null,
   "metadata": {
    "collapsed": false,
    "deletable": true,
    "editable": true
   },
   "outputs": [],
   "source": [
    "from PIL import Image\n",
    "import math\n",
    "\n",
    "def remove_circle(img_name):\n",
    "\n",
    "    original_im = Image.open('../../ISIC-2017_Training_Data/ISIC_' + img_name + '.jpg')\n",
    "    rgb_original_im = original_im.convert('RGB')\n",
    "    \n",
    "    width, height = original_im.size\n",
    "    \n",
    "    radius = int(max(width, height) / math.sqrt(2))\n",
    "    \n",
    "    percentage_black = 1\n",
    "    center_x = width/2\n",
    "    center_y = height/2\n",
    "    \n",
    "    while radius > 0 and percentage_black > 0.65:\n",
    "        output = original_im.copy() #Image.new( 'RGB', (width,height), \"black\") # create a new black image\n",
    "        output_pixels = output.load() # create the pixel map\n",
    "        \n",
    "        circle_upper = {}\n",
    "        circle_lower = {}\n",
    "        \n",
    "        for x in range(-radius,radius):\n",
    "            y_upper = center_y + int(math.sqrt(radius*radius - x*x))\n",
    "            y_lower = center_y - int(math.sqrt(radius*radius - x*x))\n",
    "            x_val = center_x + x\n",
    "\n",
    "            if x_val > 0 and x_val < width and y_upper > 0 and y_upper < height and y_lower > 0 and y_lower < height:               \n",
    "                circle_upper[x_val] = y_upper\n",
    "                circle_lower[x_val] = y_lower\n",
    "        outside_pixels = []\n",
    "        dark_ctr = 0.0\n",
    "        for y in range(height):\n",
    "            for x in range(width):\n",
    "                try:\n",
    "                    if x < (center_x-radius) or x > (center_x+radius-1) or y > circle_upper[x] or y < circle_lower[x]:\n",
    "                        output_pixels[x,y] = (255, 255, 255)\n",
    "                        r, g, b = rgb_original_im.getpixel((x,y))\n",
    "                        avg = long((r + b + g))/3.0\n",
    "                        outside_pixels.append(avg)\n",
    "                        if avg < 30:\n",
    "                            dark_ctr += 1.0\n",
    "                except KeyError:\n",
    "                    continue\n",
    "                    \n",
    "        var = len(outside_pixels)\n",
    "        if not(var == 0):            \n",
    "            percentage_black = dark_ctr/long(len(outside_pixels))\n",
    "            output.save(\"./circle_tests/\" + img_name + str(radius) + \".png\")\n",
    "        radius = radius - 10\n",
    "        "
   ]
  },
  {
   "cell_type": "code",
   "execution_count": null,
   "metadata": {
    "collapsed": true
   },
   "outputs": [],
   "source": [
    "# def remove_circle_by_circumference(img_name):"
   ]
  },
  {
   "cell_type": "code",
   "execution_count": null,
   "metadata": {
    "collapsed": false,
    "deletable": true,
    "editable": true
   },
   "outputs": [],
   "source": [
    "#for photo_number in range(0, 15295):    \n",
    "# for photo_number in range(0, 45):    \n",
    "#     try:\n",
    "#         id = str(photo_number)\n",
    "#         new_id = ''\n",
    "\n",
    "#         num_digits = len(id)\n",
    "\n",
    "#         if num_digits < 7:\n",
    "#             difference = 7 - num_digits\n",
    "\n",
    "#             for digit in range(0, difference):\n",
    "#                 new_id = new_id + '0'\n",
    "#             id = new_id + id\n",
    "\n",
    "#         result = group_clusters(id)\n",
    "        \n",
    "#     except IOError:\n",
    "#         continue\n",
    "\n",
    "remove_circle('0000005')\n",
    "remove_circle('0000006')\n",
    "remove_circle('0000011')\n",
    "remove_circle('0000030')\n",
    "remove_circle('0000036')\n",
    "remove_circle('0000045')\n",
    "remove_circle('0000071')\n",
    "\n",
    "remove_circle('0000169')\n"
   ]
  },
  {
   "cell_type": "code",
   "execution_count": null,
   "metadata": {
    "collapsed": true,
    "deletable": true,
    "editable": true
   },
   "outputs": [],
   "source": []
  },
  {
   "cell_type": "code",
   "execution_count": null,
   "metadata": {
    "collapsed": true,
    "deletable": true,
    "editable": true
   },
   "outputs": [],
   "source": []
  }
 ],
 "metadata": {
  "kernelspec": {
   "display_name": "Python 2",
   "language": "python",
   "name": "python2"
  },
  "language_info": {
   "codemirror_mode": {
    "name": "ipython",
    "version": 2
   },
   "file_extension": ".py",
   "mimetype": "text/x-python",
   "name": "python",
   "nbconvert_exporter": "python",
   "pygments_lexer": "ipython2",
   "version": "2.7.10"
  }
 },
 "nbformat": 4,
 "nbformat_minor": 2
}
